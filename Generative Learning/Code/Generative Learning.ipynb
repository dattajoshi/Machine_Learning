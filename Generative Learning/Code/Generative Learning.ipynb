{
 "cells": [
  {
   "cell_type": "markdown",
   "metadata": {},
   "source": [
    "<font size = 5><b>CS584 Assignment II : Generative Learning</b></font>"
   ]
  },
  {
   "cell_type": "markdown",
   "metadata": {},
   "source": [
    "### Gaussian Discriminant Analysis"
   ]
  },
  {
   "cell_type": "code",
   "execution_count": 76,
   "metadata": {
    "collapsed": false
   },
   "outputs": [],
   "source": [
    "%matplotlib inline\n",
    "import numpy as np\n",
    "import matplotlib.pyplot as mpl\n",
    "from sklearn.cross_validation import KFold \n",
    "from collections import defaultdict\n",
    "from sys import float_info\n",
    "from sys import maxint\n",
    "import math as math\n",
    "from sklearn.metrics import precision_recall_curve\n",
    "from sklearn.preprocessing import label_binarize\n",
    "from sklearn.preprocessing import Binarizer \n",
    "from random import randint\n",
    "import random as rd\n",
    "from scipy.special import comb"
   ]
  },
  {
   "cell_type": "code",
   "execution_count": 29,
   "metadata": {
    "collapsed": true
   },
   "outputs": [],
   "source": [
    "def plot_data(X_data,Y_data,plot_type='bo',X_name='X-axis',Y_name='Y-axis',multi_plot='N',X2_data='N',Y2_data='N',plot2_type='N'):\n",
    "    '''Plot data on to screen'''\n",
    "    fig = mpl.figure()\n",
    "    ax = fig.add_subplot(111)\n",
    "    ax.set_xlabel(X_name)    \n",
    "    ax.set_ylabel(Y_name)           \n",
    "    ax.plot(X_data,Y_data,plot_type)\n",
    "    if multi_plot == 'Y':        \n",
    "        ax.plot(X2_data,Y2_data,plot2_type)\n",
    "    mpl.show()"
   ]
  },
  {
   "cell_type": "code",
   "execution_count": 30,
   "metadata": {
    "collapsed": true
   },
   "outputs": [],
   "source": [
    "def get_features_labels(data_matrix):\n",
    "    '''Segregate the features and labels , and return them\n",
    "    '''\n",
    "    return data_matrix[:,:len(data_matrix[0])-1],data_matrix[:,len(data_matrix[0])-1:]"
   ]
  },
  {
   "cell_type": "code",
   "execution_count": 4,
   "metadata": {
    "collapsed": true
   },
   "outputs": [],
   "source": [
    "def mu_j(data_matrix):\n",
    "    '''\n",
    "    Computes the mean vector for every different class in the data matrix\n",
    "    '''    \n",
    "    mu_j = defaultdict(lambda : np.zeros(len(data_matrix[0])-1))    \n",
    "    j_count = defaultdict(lambda : 0)\n",
    "    \n",
    "    for row in data_matrix:\n",
    "        \n",
    "        lbl      = row[len(row)-1]\n",
    "        feat_vec = row[0:len(row)-1]\n",
    "        \n",
    "        mu_j[lbl] += feat_vec\n",
    "        \n",
    "        j_count[lbl] += 1\n",
    "    \n",
    "    for lbl in mu_j.keys():\n",
    "        mu_j[lbl] /= j_count[lbl]\n",
    "    \n",
    "    return mu_j,j_count"
   ]
  },
  {
   "cell_type": "code",
   "execution_count": 5,
   "metadata": {
    "collapsed": false
   },
   "outputs": [],
   "source": [
    "def get_params(data_matrix):\n",
    "    '''\n",
    "    Computes the Co-variance matrix all the different class labels in the training dataset.    \n",
    "    '''\n",
    "    j_SigmaJ,j_Mj = mu_j(data_matrix)\n",
    "    \n",
    "    feature_matrix,labels= get_features_labels(data_matrix)\n",
    "    \n",
    "    no_of_features = len(feature_matrix[0])\n",
    "    \n",
    "    cov_j = defaultdict(lambda : np.zeros((no_of_features,no_of_features)))\n",
    "    \n",
    "    lbl_and_cnt = defaultdict(lambda : 0)\n",
    "    \n",
    "    for _id,label in enumerate(labels):        \n",
    "        X_minus_mu_j = feature_matrix[_id] - j_SigmaJ[label[0]]\n",
    "        cov_j[label[0]] += np.outer(X_minus_mu_j,np.transpose(X_minus_mu_j)) \n",
    "    \n",
    "    for j in cov_j.iterkeys():\n",
    "        cov_j[j] /= float(j_Mj[j])\n",
    "    \n",
    "    return {'cov' : cov_j, 'mean' : j_SigmaJ, 'count' : j_Mj}"
   ]
  },
  {
   "cell_type": "code",
   "execution_count": 6,
   "metadata": {
    "collapsed": true
   },
   "outputs": [],
   "source": [
    "def membership_j(j,mu_j,cov_j,X,alpha_j):\n",
    "    '''\n",
    "    Computes the the membership value for class j of a given feature vector X.\n",
    "    '''\n",
    "    g_of_x = 0.0\n",
    "    \n",
    "    det = np.linalg.det(cov_j)    \n",
    "    det = math.pow(det,0.5)\n",
    "    \n",
    "    g_of_x += (-1.0 * math.log(det))    \n",
    "    g_of_x += math.log(alpha_j)\n",
    "    \n",
    "    x_minus_j = X - mu_j\n",
    "    \n",
    "    trans_x = np.transpose(x_minus_j)\n",
    "    cov_inv = np.linalg.inv(cov_j)\n",
    "    \n",
    "\n",
    "    g_of_x += (-0.5 * np.dot(np.dot(x_minus_j,cov_inv),trans_x))\n",
    "    \n",
    "    return g_of_x\n",
    "    "
   ]
  },
  {
   "cell_type": "code",
   "execution_count": 52,
   "metadata": {
    "collapsed": true
   },
   "outputs": [],
   "source": [
    "def replace_zero(x):\n",
    "    '''\n",
    "    To avoid divide by zero errors.\n",
    "    '''\n",
    "    if x == 0 :\n",
    "        return 1\n",
    "    else:\n",
    "        return x"
   ]
  },
  {
   "cell_type": "code",
   "execution_count": 53,
   "metadata": {
    "collapsed": false
   },
   "outputs": [],
   "source": [
    "def evaluate_performance(conf_matrix):\n",
    "    '''\n",
    "    For a confusion matrix, compute accuracy, precison, recall and F-Measure.\n",
    "    '''    \n",
    "    measure_and_value = defaultdict(lambda : defaultdict(lambda : 0.0) )\n",
    "    \n",
    "    #Accuracy\n",
    "    measure_and_value['acc'] = float(conf_matrix.trace())/replace_zero(np.sum(conf_matrix))\n",
    "    \n",
    "    #Precision\n",
    "    for r_num,row in enumerate(conf_matrix):\n",
    "        measure_and_value['prec'][r_num+1] = conf_matrix[r_num,r_num] / replace_zero(sum(row))\n",
    "    \n",
    "    \n",
    "    conf_mat_trans = np.transpose(conf_matrix)\n",
    "    \n",
    "    #Recall\n",
    "    for r_num,row in enumerate(conf_mat_trans):\n",
    "        measure_and_value['rec'][r_num+1] = conf_mat_trans[r_num,r_num] / replace_zero(sum(row))\n",
    "    \n",
    "    #F-Measure\n",
    "    for j in measure_and_value['rec'].keys():\n",
    "        nr = 2 * measure_and_value['prec'][j] * measure_and_value['rec'][j]\n",
    "        dr = measure_and_value['prec'][j] + measure_and_value['rec'][j]\n",
    "        \n",
    "        measure_and_value['F-Measure'][j] = float(nr) / replace_zero(dr)\n",
    "            \n",
    "    return measure_and_value"
   ]
  },
  {
   "cell_type": "code",
   "execution_count": 9,
   "metadata": {
    "collapsed": false
   },
   "outputs": [],
   "source": [
    "def K_fold(K,data_matrix,PR_Curve='N',tow=1):\n",
    "    '''\n",
    "    Perform K-Fold cross validation on the data_matrix,return the accuracy.\n",
    "    '''    \n",
    "    correct = 0\n",
    "    total = 0\n",
    "    \n",
    "    kf = KFold(len(data_matrix),K)     \n",
    "    \n",
    "    f = open('workfile.txt','a')\n",
    "    \n",
    "    train_data = []\n",
    "    test_data  = []\n",
    "    \n",
    "    #create the confusion_matrix.\n",
    "    k = len(get_params(data_matrix)['mean'].keys()) # No of different classes    \n",
    "    conf_matrix = np.zeros((k,k))    \n",
    "    \n",
    " \n",
    "    pr_details = defaultdict(lambda : defaultdict(lambda : [])) \n",
    "        \n",
    "    for tr_row_num,tst_row_num in kf:           \n",
    "        \n",
    "        if PR_Curve == 'Y':\n",
    "            pr_details = defaultdict(lambda : defaultdict(lambda : [])) \n",
    "            \n",
    "        train_data = []\n",
    "        test_data  = []\n",
    "                \n",
    "        \n",
    "        train_data.append(data_matrix[tr_row_num])\n",
    "        test_data.append(data_matrix[tst_row_num])\n",
    "        \n",
    "        train_data = np.array(train_data[0])\n",
    "        test_data = np.array(test_data[0])\n",
    "\n",
    "        #Compute the parameters for the train data.\n",
    "        dicts = get_params(train_data)\n",
    "        #dicts = get_params(train_data)\n",
    "\n",
    "        X_test = test_data[:,:len(test_data[0])-1]    \n",
    "\n",
    "        for _id,feat_vector in enumerate(X_test):\n",
    "\n",
    "            prev_mem = -maxint-1\n",
    "            best_class = -1\n",
    "\n",
    "            for class_id in dicts['mean'].keys():\n",
    "                mean = dicts['mean'][class_id]\n",
    "                cov = dicts['cov'][class_id]\n",
    "\n",
    "                alpha_j = float(dicts['count'][class_id])/ sum(dicts['count'].values())\n",
    "\n",
    "                membership_value = membership_j(class_id,mean,cov,feat_vector,alpha_j)\n",
    "\n",
    "                if membership_value > prev_mem:\n",
    "                    prev_mem = membership_value\n",
    "                    best_class = class_id        \n",
    "            \n",
    "            actual_cls = test_data[:,len(test_data[0])-1:][_id][0]            \n",
    "            conf_matrix[best_class-1,actual_cls-1] +=1       \n",
    "            \n",
    "            #To Plot Prec-Recall Curve.\n",
    "                      \n",
    "            for class_id in dicts['mean'].keys():\n",
    "                measure_and_value = evaluate_performance(conf_matrix) \n",
    "                pr_details[class_id]['prec'].append(measure_and_value['prec'][class_id])\n",
    "                pr_details[class_id]['rec'].append(measure_and_value['rec'][class_id])\n",
    "\n",
    "                \n",
    "            if _id % 100 == 0:\n",
    "                f.write(str(conf_matrix) + '\\n')\n",
    "                f.write('\\n')\n",
    "    \n",
    "    if PR_Curve == 'Y':    \n",
    "        for k in pr_details.keys():\n",
    "            Y_data = pr_details[k]['prec']\n",
    "            X_data = pr_details[k]['rec']\n",
    "            \n",
    "        plot_x = []\n",
    "        plot_y = []\n",
    "        \n",
    "        \n",
    "\n",
    "        for _id,y in enumerate(Y_data):\n",
    "            if y <= tow:\n",
    "                plot_y.append(y)\n",
    "                plot_x.append(X_data[_id])\n",
    "\n",
    "        \n",
    "        plot_data(plot_x,plot_y,plot_type='r-',X_name='Recall',Y_name='Precision')\n",
    "        return conf_matrix,np.trapz(plot_y,plot_x)\n",
    "\n",
    "    return conf_matrix,np.trapz(pr_details[class_id]['prec'],pr_details[class_id]['rec'])\n"
   ]
  },
  {
   "cell_type": "code",
   "execution_count": 10,
   "metadata": {
    "collapsed": false
   },
   "outputs": [],
   "source": [
    "def perform_GDA(K,data_set,PR_Curve='N',tow=1):\n",
    "    '''\n",
    "    Construct the confusion matrix, and compute the performance measures such as:\n",
    "    1. Precision\n",
    "    2. Accuracy\n",
    "    3. Recall\n",
    "    4. F-Measure\n",
    "    '''\n",
    "    conf_matrix,AUC = K_fold(K,np.loadtxt(data_set),PR_Curve,tow)\n",
    "    perf_measures = evaluate_performance(conf_matrix)\n",
    "    \n",
    "    print 'Confusion Matrix : \\n' + str(conf_matrix) + '\\n'\n",
    "    print 'Accuracy : ' + '\\n' + str(perf_measures['acc'])\n",
    "    \n",
    "    #Precision,Recall and F-Measure :\n",
    "    for cls in perf_measures['rec'].keys():\n",
    "        print 'Precision of class '+ str(cls) + ' is : \\n' + str(perf_measures['prec'][cls])\n",
    "        print 'Recall of class '+ str(cls) + ' is : \\n' + str(perf_measures['rec'][cls])\n",
    "        print 'F-Measure of class '+ str(cls) + ' is : \\n' + str(perf_measures['F-Measure'][cls])\n",
    "        print ''\n",
    "    \n",
    "    return conf_matrix, perf_measures,'Area : ' + str(AUC)"
   ]
  },
  {
   "cell_type": "markdown",
   "metadata": {},
   "source": [
    "###GDA on <font color = 'green'>1 Dimensional , 2 Class </font>Dataset"
   ]
  },
  {
   "cell_type": "code",
   "execution_count": 107,
   "metadata": {
    "collapsed": false
   },
   "outputs": [
    {
     "name": "stdout",
     "output_type": "stream",
     "text": [
      "Confusion Matrix : \n",
      "[[      0.       0.]\n",
      " [  50859.  194198.]]\n",
      "\n",
      "Accuracy : \n",
      "0.792460529591\n",
      "Precision of class 1 is : \n",
      "0.0\n",
      "Recall of class 1 is : \n",
      "0.0\n",
      "F-Measure of class 1 is : \n",
      "0.0\n",
      "\n",
      "Precision of class 2 is : \n",
      "0.792460529591\n",
      "Recall of class 2 is : \n",
      "1.0\n",
      "F-Measure of class 2 is : \n",
      "0.88421531912\n",
      "\n"
     ]
    },
    {
     "data": {
      "text/plain": [
       "(array([[      0.,       0.],\n",
       "        [  50859.,  194198.]]),\n",
       " defaultdict(<function <lambda> at 0x000000001A6B0668>, {'acc': 0.79246052959107471, 'rec': defaultdict(<function <lambda> at 0x000000001A6B0828>, {1: 0.0, 2: 1.0}), 'F-Measure': defaultdict(<function <lambda> at 0x000000001A6B0DD8>, {1: 0.0, 2: 0.88421531911987339}), 'prec': defaultdict(<function <lambda> at 0x000000001A6B0C88>, {1: 0.0, 2: 0.79246052959107471})}),\n",
       " 'Area : 9.83090837593e-06')"
      ]
     },
     "execution_count": 107,
     "metadata": {},
     "output_type": "execute_result"
    }
   ],
   "source": [
    "x = perform_GDA(10,'Skin_NonSkin.txt','N')"
   ]
  },
  {
   "cell_type": "markdown",
   "metadata": {},
   "source": [
    "#####As seen above , the accuracy of predictions is 79.24%, which is quite low. <br/>This is because, the orginial dataset contained 3 features, out which 2 were discarded and only 1 was chosen.<br/> Now lets try performing GDA on the original file with 3 features:"
   ]
  },
  {
   "cell_type": "markdown",
   "metadata": {},
   "source": [
    "###GDA on <font color = 'green'>n Dimensional , 2 Class </font>Dataset"
   ]
  },
  {
   "cell_type": "code",
   "execution_count": 106,
   "metadata": {
    "collapsed": false
   },
   "outputs": [
    {
     "data": {
      "image/png": "[encoded data removed]",
      "text/plain": [
       "<matplotlib.figure.Figure at 0x1ad23630>"
      ]
     },
     "metadata": {},
     "output_type": "display_data"
    },
    {
     "name": "stdout",
     "output_type": "stream",
     "text": [
      "Confusion Matrix : \n",
      "[[  37846.     295.]\n",
      " [  13013.  193903.]]\n",
      "\n",
      "Accuracy : \n",
      "0.945694267048\n",
      "Precision of class 1 is : \n",
      "0.992265541019\n",
      "Recall of class 1 is : \n",
      "0.744135747852\n",
      "F-Measure of class 1 is : \n",
      "0.850471910112\n",
      "\n",
      "Precision of class 2 is : \n",
      "0.937109745017\n",
      "Recall of class 2 is : \n",
      "0.998480931832\n",
      "F-Measure of class 2 is : \n",
      "0.966822399617\n",
      "\n"
     ]
    }
   ],
   "source": [
    "x = perform_GDA(10,'Skin_NonSkin_full.txt','Y',0.93)"
   ]
  },
  {
   "cell_type": "markdown",
   "metadata": {},
   "source": [
    "#####As seen above, the accuracy has risen to 94.5% after including all the features <br/>Now lets perform GDA on a n Dimensional , k Class Dataset:"
   ]
  },
  {
   "cell_type": "markdown",
   "metadata": {},
   "source": [
    "###GDA on <font color = 'green'>n Dimensional , k Class </font>Dataset"
   ]
  },
  {
   "cell_type": "code",
   "execution_count": 11,
   "metadata": {
    "collapsed": false
   },
   "outputs": [
    {
     "name": "stdout",
     "output_type": "stream",
     "text": [
      "Confusion Matrix : \n",
      "[[ 50.   0.   0.]\n",
      " [  0.  46.   1.]\n",
      " [  0.   4.  49.]]\n",
      "\n",
      "Accuracy : \n",
      "0.966666666667\n",
      "Precision of class 1 is : \n",
      "1.0\n",
      "Recall of class 1 is : \n",
      "1.0\n",
      "F-Measure of class 1 is : \n",
      "1.0\n",
      "\n",
      "Precision of class 2 is : \n",
      "0.978723404255\n",
      "Recall of class 2 is : \n",
      "0.92\n",
      "F-Measure of class 2 is : \n",
      "0.948453608247\n",
      "\n",
      "Precision of class 3 is : \n",
      "0.924528301887\n",
      "Recall of class 3 is : \n",
      "0.98\n",
      "F-Measure of class 3 is : \n",
      "0.95145631068\n",
      "\n"
     ]
    }
   ],
   "source": [
    "x = perform_GDA(10,'iris.data','N')"
   ]
  },
  {
   "cell_type": "markdown",
   "metadata": {},
   "source": [
    "###Naive Bayes with Bernoulli Features"
   ]
  },
  {
   "cell_type": "code",
   "execution_count": 43,
   "metadata": {
    "collapsed": true
   },
   "outputs": [],
   "source": [
    "def beta_c(labels):\n",
    "    '''Compute and Return prior probabilities for different classes in the dataset'''\n",
    "    total_examples = len(labels)\n",
    "\n",
    "    prior_probs = defaultdict(lambda : 0.0)\n",
    "\n",
    "    for x in labels:\n",
    "        prior_probs[x[0]] += 1\n",
    "\n",
    "    for k in prior_probs.keys():\n",
    "        prior_probs[k] = float(prior_probs[k])/total_examples\n",
    "\n",
    "    return prior_probs"
   ]
  },
  {
   "cell_type": "code",
   "execution_count": 48,
   "metadata": {
    "collapsed": false
   },
   "outputs": [],
   "source": [
    "def alphas(features,labels,e):\n",
    "    '''Returns the computed alphas dictionary of form alpha[col][class]'''\n",
    "    cls_and_count = defaultdict(lambda : 0)\n",
    "    \n",
    "    for x in labels:\n",
    "        cls_and_count[x[0]] += 1\n",
    "    \n",
    "    alphas = defaultdict(lambda : defaultdict(lambda : 0.0))\n",
    "    \n",
    "    total_cols = features.shape[1]\n",
    "    \n",
    "    for col_id in range(0,total_cols):\n",
    "        \n",
    "        cur_col = features[:,col_id:col_id + 1]\n",
    "        \n",
    "        for r_id,value in enumerate(cur_col):\n",
    "            \n",
    "            cls_label = labels[r_id][0]\n",
    "                        \n",
    "            if value == 1:                                                \n",
    "                alphas[col_id][cls_label] += 1\n",
    "            else:\n",
    "                alphas[col_id][cls_label] #just a default zero initialization\n",
    "    \n",
    "    \n",
    "    for col_id in range(0,total_cols):\n",
    "        for cls_label in cls_and_count.keys():            \n",
    "            alphas[col_id][cls_label] = float(alphas[col_id][cls_label] + e) / (cls_and_count[cls_label] + (2*e))\n",
    "    \n",
    "    return alphas\n",
    "    "
   ]
  },
  {
   "cell_type": "code",
   "execution_count": 125,
   "metadata": {
    "collapsed": false
   },
   "outputs": [
    {
     "data": {
      "text/plain": [
       "defaultdict(<function <lambda> at 0x000000001A691128>, {0: defaultdict(<function <lambda> at 0x000000001A691198>, {0.0: 0.045454545454545456, 1.0: 0.96875}), 1: defaultdict(<function <lambda> at 0x000000001A691D68>, {0.0: 0.5, 1.0: 0.65625}), 2: defaultdict(<function <lambda> at 0x000000001A6910B8>, {0.0: 0.9545454545454545, 1.0: 0.96875})})"
      ]
     },
     "execution_count": 125,
     "metadata": {},
     "output_type": "execute_result"
    }
   ],
   "source": [
    "alphas(tst_features,tst_labels,0.1)"
   ]
  },
  {
   "cell_type": "code",
   "execution_count": 49,
   "metadata": {
    "collapsed": false
   },
   "outputs": [],
   "source": [
    "def nb_bern_membership(vec_to_be_pred,alphas,beta_c):\n",
    "    \n",
    "    \n",
    "    prev_mem = -maxint-1\n",
    "    best_class = -1\n",
    "    \n",
    "    for cls in beta_c.keys():\n",
    "        \n",
    "        prob_sum = 0\n",
    "        \n",
    "        for j in range(0,len(vec_to_be_pred)):\n",
    "                    \n",
    "            \n",
    "            temp1 = vec_to_be_pred[j]* math.log(alphas[j][cls])\n",
    "            temp2 = (1-vec_to_be_pred[j]) * (math.log(1 - alphas[j][cls]))\n",
    "            \n",
    "            prob_sum += (temp1 + temp2) \n",
    "        \n",
    "        prob_sum += math.log(beta_c[cls])\n",
    "        \n",
    "        if prob_sum >= prev_mem:\n",
    "            prev_mem = prob_sum\n",
    "            best_class = cls\n",
    "    \n",
    "    return best_class"
   ]
  },
  {
   "cell_type": "code",
   "execution_count": 55,
   "metadata": {
    "collapsed": false
   },
   "outputs": [],
   "source": [
    "#load data matrix\n",
    "def Bern_NB(file_name,delimiter):\n",
    "    ''''''\n",
    "    data_matrix = np.loadtxt(file_name,delimiter=',')\n",
    "\n",
    "    #segregate features and labels\n",
    "    features,labels = get_features_labels(data_matrix)\n",
    "        \n",
    "\n",
    "    #binarize features\n",
    "    binarizer = Binarizer(threshold=0.0)\n",
    "    bin_features = binarizer.transform(features)\n",
    "\n",
    "    betas = beta_c(labels)\n",
    "\n",
    "    alpha_scores = alphas(bin_features,labels,1)\n",
    "\n",
    "    pred_cls_lst = []\n",
    "    \n",
    "    for vec in bin_features:\n",
    "        pred_cls_lst.append(nb_bern_membership(vec,alpha_scores,betas))\n",
    "    \n",
    "    #confusion matrix\n",
    "    ls_lbls = []\n",
    "\n",
    "    for lbl in labels:\n",
    "        ls_lbls.append(lbl[0])\n",
    "\n",
    "    distinct_lbls = len(set(ls_lbls))\n",
    "    \n",
    "    conf_matrix = np.zeros((distinct_lbls,distinct_lbls))\n",
    "    \n",
    "    for _id,actual in enumerate(labels):\n",
    "        actual = int(actual)\n",
    "        pred = int(pred_cls_lst[_id])\n",
    "        \n",
    "        conf_matrix[pred-1,actual-1] += 1\n",
    "    \n",
    "    perf_measures = evaluate_performance(conf_matrix)\n",
    "    \n",
    "    print 'Confusion Matrix : \\n' + str(conf_matrix) + '\\n'\n",
    "    print 'Accuracy : ' + '\\n' + str(perf_measures['acc'])\n",
    "    \n",
    "    #Precision,Recall and F-Measure :\n",
    "    for cls in perf_measures['rec'].keys():\n",
    "        print 'Precision of class '+ str(cls) + ' is : \\n' + str(perf_measures['prec'][cls])\n",
    "        print 'Recall of class '+ str(cls) + ' is : \\n' + str(perf_measures['rec'][cls])\n",
    "        print 'F-Measure of class '+ str(cls) + ' is : \\n' + str(perf_measures['F-Measure'][cls])\n",
    "        print ''    \n",
    "    "
   ]
  },
  {
   "cell_type": "code",
   "execution_count": 56,
   "metadata": {
    "collapsed": false
   },
   "outputs": [
    {
     "name": "stdout",
     "output_type": "stream",
     "text": [
      "Confusion Matrix : \n",
      "[[ 1478.   190.]\n",
      " [  335.  2598.]]\n",
      "\n",
      "Accuracy : \n",
      "0.885894370789\n",
      "Precision of class 1 is : \n",
      "0.886091127098\n",
      "Recall of class 1 is : \n",
      "0.815223386652\n",
      "F-Measure of class 1 is : \n",
      "0.84918126975\n",
      "\n",
      "Precision of class 2 is : \n",
      "0.885782475281\n",
      "Recall of class 2 is : \n",
      "0.931850789096\n",
      "F-Measure of class 2 is : \n",
      "0.908232826429\n",
      "\n"
     ]
    }
   ],
   "source": [
    "Bern_NB('spambase.data',',')"
   ]
  },
  {
   "cell_type": "markdown",
   "metadata": {},
   "source": [
    "<h3> Let's Compare the accuracy with sklearn's BernoulliNB package</h3>"
   ]
  },
  {
   "cell_type": "code",
   "execution_count": 206,
   "metadata": {
    "collapsed": false
   },
   "outputs": [],
   "source": [
    "from sklearn.naive_bayes import BernoulliNB\n",
    "from sklearn.metrics import accuracy_score\n",
    "from sklearn.utils import column_or_1d\n",
    "\n",
    "def sk_Bern_NB_accuracy(file_name):\n",
    "    data_matrix = np.loadtxt(file_name,delimiter=',')\n",
    "\n",
    "    #segregate features and labels\n",
    "    features,labels = get_features_labels(data_matrix)\n",
    "\n",
    "    #binarize features\n",
    "    binarizer = Binarizer(threshold=0.0)\n",
    "    bin_features = binarizer.transform(features)\n",
    "\n",
    "\n",
    "    clf = BernoulliNB()\n",
    "    \n",
    "    clf.fit(bin_features, column_or_1d(labels, warn=False))\n",
    "\n",
    "    pred_ls = []\n",
    "    for vec in features:\n",
    "        pred_ls.append(clf.predict(vec))\n",
    "\n",
    "    ls_lbls = []\n",
    "\n",
    "    for lbl in labels:\n",
    "        ls_lbls.append(lbl[0])\n",
    "\n",
    "    pred_ls_lbls = []\n",
    "\n",
    "    for lbl in pred_ls:\n",
    "        pred_ls_lbls.append(lbl[0])\n",
    "\n",
    "    return accuracy_score(ls_lbls, pred_ls_lbls)"
   ]
  },
  {
   "cell_type": "code",
   "execution_count": 207,
   "metadata": {
    "collapsed": false
   },
   "outputs": [
    {
     "data": {
      "text/plain": [
       "0.88589437078895894"
      ]
     },
     "execution_count": 207,
     "metadata": {},
     "output_type": "execute_result"
    }
   ],
   "source": [
    "sk_Bern_NB_accuracy('spambase.data')"
   ]
  },
  {
   "cell_type": "markdown",
   "metadata": {},
   "source": [
    "<h4> In both cases, accuracy is found to be 88.5. Hence Verified. <br><br> The accuracy was so less i.e 88.58 % because, the features in the SPAM dataset were binarized during Bernoulli NB. </h4>"
   ]
  },
  {
   "cell_type": "markdown",
   "metadata": {
    "collapsed": true
   },
   "source": [
    "###Naive Bayes with Binomial Features"
   ]
  },
  {
   "cell_type": "code",
   "execution_count": 80,
   "metadata": {
    "collapsed": true
   },
   "outputs": [],
   "source": [
    "def alpha_binomial(features,doc_and_len,labels,e):\n",
    "    \n",
    "    class_and_sum = defaultdict(lambda : 0)\n",
    "    \n",
    "    for k,v in doc_and_len.items():\n",
    "        lbls = labels[k][0]\n",
    "        class_and_sum[lbls] += v\n",
    "    \n",
    "    \n",
    "    alphas = defaultdict(lambda : defaultdict(lambda : 0.0))\n",
    "    \n",
    "    total_cols = features.shape[1]\n",
    "    \n",
    "    for col_id in range(0,total_cols):\n",
    "        \n",
    "        cur_col = features[:,col_id:col_id + 1]\n",
    "        \n",
    "        for r_id,value in enumerate(cur_col):\n",
    "            \n",
    "            cls_label = labels[r_id][0]\n",
    "            \n",
    "            alphas[col_id][cls_label] += value\n",
    "            '''\n",
    "            if value == 1:                                                \n",
    "                alphas[col_id][cls_label] += value\n",
    "            else:\n",
    "                alphas[col_id][cls_label] #just a default zero initialization\n",
    "            '''\n",
    "    \n",
    "   \n",
    "    for col_id in range(0,total_cols):\n",
    "        for cls_label in class_and_sum.keys():            \n",
    "            alphas[col_id][cls_label] = float(alphas[col_id][cls_label] + e) / (class_and_sum[cls_label] + (2*e))\n",
    "    \n",
    "    return alphas\n",
    "    \n",
    "    "
   ]
  },
  {
   "cell_type": "code",
   "execution_count": 99,
   "metadata": {
    "collapsed": true
   },
   "outputs": [],
   "source": [
    "def nb_binomial_membership(vec_to_be_pred,alphas,beta_c):\n",
    "    \n",
    "    \n",
    "    prev_mem = -maxint-1\n",
    "    best_class = -1\n",
    "    \n",
    "    for cls in beta_c.keys():\n",
    "        \n",
    "        prob_sum = 0\n",
    "        \n",
    "        for j in range(0,len(vec_to_be_pred)):\n",
    "            \n",
    "            p = sum(vec_to_be_pred)\n",
    "            xj = vec_to_be_pred[j]\n",
    "            \n",
    "            temp1 = comb(p,xj)\n",
    "            temp2 = math.pow(alphas[j][cls],xj)\n",
    "            temp3 = math.pow(1 - alphas[j][cls],(p-xj))\n",
    "            \n",
    "\n",
    "            part1 = math.log(temp1) +math.log(temp2)  +math.log(temp3)\n",
    "            \n",
    "            prob_sum += part1\n",
    "        \n",
    "        prob_sum += math.log(beta_c[cls])\n",
    "        \n",
    "        if prob_sum >= prev_mem:\n",
    "            prev_mem = prob_sum\n",
    "            best_class = cls\n",
    "    \n",
    "    return best_class"
   ]
  },
  {
   "cell_type": "code",
   "execution_count": 110,
   "metadata": {
    "collapsed": false
   },
   "outputs": [],
   "source": [
    "#randomly assign a doc_len\n",
    "def Binomial(data_set):\n",
    "    data_matrix = np.loadtxt(data_set,delimiter=',')\n",
    "\n",
    "    features,labels = get_features_labels(data_matrix)\n",
    "\n",
    "    #Extract first 48 features\n",
    "    features = features[:,:48]\n",
    "\n",
    "    doc_and_len = defaultdict(int)\n",
    "\n",
    "    for r_id,vec in enumerate(features):\n",
    "\n",
    "        doc_len = 10\n",
    "        doc_and_len[r_id] = doc_len\n",
    "\n",
    "        for c_id,cell in enumerate(vec):            \n",
    "            features[r_id,c_id] = int(cell * doc_len) \n",
    "\n",
    "    #Prior class probs\n",
    "    betas = beta_c(labels)\n",
    "\n",
    "\n",
    "    #start\n",
    "    alpha_scores = alpha_binomial(features,doc_and_len,labels,1)\n",
    "\n",
    "    pred_cls_lst = []\n",
    "    for vec in features:\n",
    "        pred_cls_lst.append(nb_binomial_membership(vec,alpha_scores,betas))\n",
    "\n",
    "    #confusion matrix\n",
    "    ls_lbls = []\n",
    "\n",
    "    for lbl in labels:\n",
    "        ls_lbls.append(lbl[0])\n",
    "\n",
    "    distinct_lbls = len(set(ls_lbls))\n",
    "\n",
    "    conf_matrix = np.zeros((distinct_lbls,distinct_lbls))\n",
    "\n",
    "    for _id,actual in enumerate(labels):\n",
    "        actual = int(actual)\n",
    "        pred = int(pred_cls_lst[_id])\n",
    "\n",
    "        conf_matrix[pred-1,actual-1] += 1\n",
    "\n",
    "    perf_measures = evaluate_performance(conf_matrix)\n",
    "\n",
    "    print 'Confusion Matrix : \\n' + str(conf_matrix) + '\\n'\n",
    "    print 'Accuracy : ' + '\\n' + str(perf_measures['acc'])\n",
    "\n",
    "    #Precision,Recall and F-Measure :\n",
    "    for cls in perf_measures['rec'].keys():\n",
    "        print 'Precision of class '+ str(cls) + ' is : \\n' + str(perf_measures['prec'][cls])\n",
    "        print 'Recall of class '+ str(cls) + ' is : \\n' + str(perf_measures['rec'][cls])\n",
    "        print 'F-Measure of class '+ str(cls) + ' is : \\n' + str(perf_measures['F-Measure'][cls])\n",
    "        print '' "
   ]
  },
  {
   "cell_type": "code",
   "execution_count": 111,
   "metadata": {
    "collapsed": false
   },
   "outputs": [
    {
     "name": "stdout",
     "output_type": "stream",
     "text": [
      "Confusion Matrix : \n",
      "[[ 1736.  2182.]\n",
      " [   77.   606.]]\n",
      "\n",
      "Accuracy : \n",
      "0.509019778309\n",
      "Precision of class 1 is : \n",
      "0.443083205717\n",
      "Recall of class 1 is : \n",
      "0.957528957529\n",
      "F-Measure of class 1 is : \n",
      "0.605827953237\n",
      "\n",
      "Precision of class 2 is : \n",
      "0.887262079063\n",
      "Recall of class 2 is : \n",
      "0.217360114778\n",
      "F-Measure of class 2 is : \n",
      "0.349178910977\n",
      "\n"
     ]
    }
   ],
   "source": [
    "Binomial('spambase.data')"
   ]
  }
 ],
 "metadata": {
  "kernelspec": {
   "display_name": "Python 2",
   "language": "python",
   "name": "python2"
  },
  "language_info": {
   "codemirror_mode": {
    "name": "ipython",
    "version": 2
   },
   "file_extension": ".py",
   "mimetype": "text/x-python",
   "name": "python",
   "nbconvert_exporter": "python",
   "pygments_lexer": "ipython2",
   "version": "2.7.11"
  }
 },
 "nbformat": 4,
 "nbformat_minor": 0
}
