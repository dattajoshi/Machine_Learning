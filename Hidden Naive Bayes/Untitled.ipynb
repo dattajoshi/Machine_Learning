{
 "cells": [
  {
   "cell_type": "markdown",
   "metadata": {},
   "source": [
    "#Hidden Naive Bayes"
   ]
  },
  {
   "cell_type": "code",
   "execution_count": 2,
   "metadata": {
    "collapsed": false
   },
   "outputs": [],
   "source": [
    "import numpy as np  \n",
    "from collections import defaultdict\n",
    "import scipy.spatial as ss\n",
    "from scipy.special import digamma,gamma\n",
    "from math import log,pi\n",
    "import numpy.random as nr\n",
    "import random\n",
    "import math"
   ]
  },
  {
   "cell_type": "code",
   "execution_count": 34,
   "metadata": {
    "collapsed": true
   },
   "outputs": [],
   "source": [
    "def P_c(labels):\n",
    "    '''Compute and Return prior probabilities for different classes in the dataset'''\n",
    "    '''\n",
    "    I/P : target labels for different instances [3,2,3,2,2,3,1,1,3]\n",
    "    O/P : 1 ->  2 /9 , 2 -> 3/9, 3 -> 4/9\n",
    "    '''\n",
    "    total_examples = len(labels)\n",
    "\n",
    "    prior_probs = defaultdict(lambda : 0.0)\n",
    "\n",
    "    for x in labels:\n",
    "        prior_probs[x] += 1\n",
    "\n",
    "    for k in prior_probs.keys():\n",
    "        prior_probs[k] = float(prior_probs[k])/total_examples\n",
    "\n",
    "    return prior_probs"
   ]
  },
  {
   "cell_type": "code",
   "execution_count": 35,
   "metadata": {
    "collapsed": false
   },
   "outputs": [
    {
     "data": {
      "text/plain": [
       "defaultdict(<function <lambda> at 0x00000000046FF198>, {1: 0.2222222222222222, 2: 0.3333333333333333, 3: 0.4444444444444444})"
      ]
     },
     "execution_count": 35,
     "metadata": {},
     "output_type": "execute_result"
    }
   ],
   "source": [
    "P_c([3,2,3,2,2,3,1,1,3])"
   ]
  },
  {
   "cell_type": "code",
   "execution_count": 36,
   "metadata": {
    "collapsed": false
   },
   "outputs": [],
   "source": [
    "def P_x_y_z(XYZ_mat,x,y,z,e):\n",
    "    '''\n",
    "    Computes P(x,y,z) and returns the value\n",
    "    I/P : Input matrix with 3 columns - X,Y,Z\n",
    "    O/P : P(X=x,Y=y,Z=z)\n",
    "    '''\n",
    "    \n",
    "    normalize_factor = XYZ_mat.shape[0]    \n",
    "    numerator = 0.0\n",
    "    \n",
    "    for row in XYZ_mat:\n",
    "        if row[0] == x and row[1] == y and row[2] == z:\n",
    "            numerator += 1\n",
    "    \n",
    "    return float(numerator + e)/(normalize_factor + (2*e))\n",
    "    "
   ]
  },
  {
   "cell_type": "code",
   "execution_count": 37,
   "metadata": {
    "collapsed": false
   },
   "outputs": [
    {
     "name": "stdout",
     "output_type": "stream",
     "text": [
      "[[1 2 3]\n",
      " [4 5 6]\n",
      " [7 8 9]\n",
      " [4 5 6]]\n"
     ]
    },
    {
     "data": {
      "text/plain": [
       "0.5"
      ]
     },
     "execution_count": 37,
     "metadata": {},
     "output_type": "execute_result"
    }
   ],
   "source": [
    "XYZ_mat = np.array([[1,2,3],[4,5,6],[7,8,9],[4,5,6]])\n",
    "print XYZ_mat\n",
    "\n",
    "P_x_y_z(XYZ_mat,4,5,6,1)"
   ]
  },
  {
   "cell_type": "code",
   "execution_count": 38,
   "metadata": {
    "collapsed": true
   },
   "outputs": [],
   "source": [
    "def P_x_y_given_z(XYZ_mat,x,y,z,e):\n",
    "    '''\n",
    "    Computes P(x,y|z) and returns the value\n",
    "    I/P : Input matrix with 3 columns - X,Y,Z\n",
    "    O/P : P(X=x,Y=y|Z=z)\n",
    "    '''    \n",
    "    normalize_factor = 0\n",
    "    numerator = 0\n",
    "    \n",
    "    for row in XYZ_mat:\n",
    "        if row[2] == z:\n",
    "            normalize_factor += 1            \n",
    "            if row[0] == x and row[1] == y:\n",
    "                numerator += 1\n",
    "    \n",
    "    return float(numerator + e)/ (normalize_factor + (2*e))"
   ]
  },
  {
   "cell_type": "code",
   "execution_count": 39,
   "metadata": {
    "collapsed": false
   },
   "outputs": [
    {
     "name": "stdout",
     "output_type": "stream",
     "text": [
      "[[1 2 3]\n",
      " [4 5 6]\n",
      " [7 8 9]\n",
      " [4 5 2]\n",
      " [3 5 6]\n",
      " [4 5 6]]\n"
     ]
    },
    {
     "data": {
      "text/plain": [
       "0.6"
      ]
     },
     "execution_count": 39,
     "metadata": {},
     "output_type": "execute_result"
    }
   ],
   "source": [
    "XYZ_mat = np.array([[1,2,3],[4,5,6],[7,8,9],[4,5,2],[3,5,6],[4,5,6]])\n",
    "print XYZ_mat\n",
    "\n",
    "P_x_y_given_z(XYZ_mat,4,5,6,1)"
   ]
  },
  {
   "cell_type": "code",
   "execution_count": 40,
   "metadata": {
    "collapsed": true
   },
   "outputs": [],
   "source": [
    "def P_x_given_z(XZ_mat,x,z,e):\n",
    "    '''\n",
    "    Computes P(x|z) and returns the value\n",
    "    I/P : Input matrix with 2 columns - X,Z\n",
    "    O/P : P(X=x|Z=z)\n",
    "    '''\n",
    "    normalize_factor = 0\n",
    "    numerator = 0\n",
    "    \n",
    "    for row in XZ_mat:\n",
    "        if row[1] == z:            \n",
    "            normalize_factor += 1\n",
    "            if row[0] == x:\n",
    "                numerator += 1            \n",
    "    \n",
    "    return float(numerator+e)/(normalize_factor + (2*e))"
   ]
  },
  {
   "cell_type": "code",
   "execution_count": 41,
   "metadata": {
    "collapsed": false
   },
   "outputs": [
    {
     "name": "stdout",
     "output_type": "stream",
     "text": [
      "[[1 2]\n",
      " [1 2]\n",
      " [5 9]\n",
      " [1 6]]\n"
     ]
    },
    {
     "data": {
      "text/plain": [
       "0.75"
      ]
     },
     "execution_count": 41,
     "metadata": {},
     "output_type": "execute_result"
    }
   ],
   "source": [
    "XZ_mat = np.array([[1,2],[1,2],[5,9],[1,6]])\n",
    "print XZ_mat\n",
    "\n",
    "P_x_given_z(XZ_mat,1,2,1)"
   ]
  },
  {
   "cell_type": "code",
   "execution_count": 42,
   "metadata": {
    "collapsed": true
   },
   "outputs": [],
   "source": [
    "def P_x_given_y_z(XYZ_mat,x,y,z,e):\n",
    "    '''\n",
    "    Computes P(x|z) and returns the value\n",
    "    I/P : Input matrix with 3 columns - X,Y,Z\n",
    "    O/P : P(X=x|Y=y,Z=z)\n",
    "    '''\n",
    "    normalize_factor = 0\n",
    "    numerator = 0\n",
    "    \n",
    "    for row in XYZ_mat:\n",
    "        if row[1] == y and row[2] == z:            \n",
    "            normalize_factor += 1\n",
    "            if row[0] == x:\n",
    "                numerator += 1            \n",
    "    \n",
    "    return float(numerator+e)/(normalize_factor + (2*e))"
   ]
  },
  {
   "cell_type": "code",
   "execution_count": 43,
   "metadata": {
    "collapsed": false
   },
   "outputs": [
    {
     "name": "stdout",
     "output_type": "stream",
     "text": [
      "[[1 2 3]\n",
      " [1 2 3]\n",
      " [5 2 3]\n",
      " [1 3 2]]\n"
     ]
    },
    {
     "data": {
      "text/plain": [
       "0.6"
      ]
     },
     "execution_count": 43,
     "metadata": {},
     "output_type": "execute_result"
    }
   ],
   "source": [
    "XYZ_mat = np.array([[1,2,3],[1,2,3],[5,2,3],[1,3,2]])\n",
    "print XYZ_mat\n",
    "\n",
    "P_x_given_y_z(XYZ_mat,1,2,3,1)"
   ]
  },
  {
   "cell_type": "markdown",
   "metadata": {},
   "source": [
    "$I_{p}(X;Y|Z) = \\sum_{x,y,z}P(x,y,z)log\\frac{P(x,y|z)}{P(x|z)P(y|z)}$"
   ]
  },
  {
   "cell_type": "code",
   "execution_count": 44,
   "metadata": {
    "collapsed": true
   },
   "outputs": [],
   "source": [
    "def np_col_to_list(np_col):\n",
    "    return [x[0] for x in np_col]"
   ]
  },
  {
   "cell_type": "code",
   "execution_count": 45,
   "metadata": {
    "collapsed": true
   },
   "outputs": [],
   "source": [
    "def cond_mutual_info(XYZ_mat,e):\n",
    "    X = np_col_to_list(XYZ_mat[:,0:1])\n",
    "    Y = np_col_to_list(XYZ_mat[:,1:2])\n",
    "    Z = np_col_to_list(XYZ_mat[:,2:3])\n",
    "    \n",
    "    unique_X = set(X)\n",
    "    unique_Y = set(Y)\n",
    "    unique_Z = set(Z)\n",
    "    \n",
    "    cond_mutual_info = 0\n",
    "    \n",
    "    XZ_mat = np.delete(XYZ_mat,1,1)\n",
    "    YZ_mat = np.delete(XYZ_mat,0,1)\n",
    "    \n",
    "    for x in unique_X:\n",
    "        for y in unique_Y:\n",
    "            for z in unique_Z:\n",
    "                part1 = P_x_y_z(XYZ_mat,x,y,z,e)                \n",
    "                part2_numer = P_x_y_given_z(XYZ_mat,x,y,z,e)\n",
    "                part2_denom = P_x_given_z(XZ_mat,x,z,e) * P_x_given_z(YZ_mat,y,z,e)                \n",
    "                part2 = math.log(float(part2_numer)/part2_denom)\n",
    "                \n",
    "                cond_mutual_info += part1 * part2\n",
    "    return cond_mutual_info"
   ]
  },
  {
   "cell_type": "code",
   "execution_count": 46,
   "metadata": {
    "collapsed": false
   },
   "outputs": [
    {
     "data": {
      "text/plain": [
       "1.481549924273279e-05"
      ]
     },
     "execution_count": 46,
     "metadata": {},
     "output_type": "execute_result"
    }
   ],
   "source": [
    "x = np.array([[0,1,1],[2,4,2]])\n",
    "cond_mutual_info(x,0.000001)"
   ]
  },
  {
   "cell_type": "code",
   "execution_count": 47,
   "metadata": {
    "collapsed": true
   },
   "outputs": [],
   "source": [
    "def delete_all_except_ij(i,j,data_matrix):\n",
    "    '''\n",
    "    Delete all columns except i,j\n",
    "    ''' \n",
    "    no_of_attr = data_matrix.shape[1]-1\n",
    "    \n",
    "    col_id_list = []\n",
    "    for col_id in range(0,no_of_attr):\n",
    "        if col_id != i and col_id != j:            \n",
    "            col_id_list.append(col_id)\n",
    "                \n",
    "    return np.delete(data_matrix,col_id_list,1)"
   ]
  },
  {
   "cell_type": "code",
   "execution_count": 48,
   "metadata": {
    "collapsed": false
   },
   "outputs": [
    {
     "name": "stdout",
     "output_type": "stream",
     "text": [
      "[[1 2 3 7 1]\n",
      " [1 2 3 8 1]\n",
      " [5 2 3 4 2]\n",
      " [1 3 2 9 2]]\n"
     ]
    },
    {
     "data": {
      "text/plain": [
       "array([[2, 7, 1],\n",
       "       [2, 8, 1],\n",
       "       [2, 4, 2],\n",
       "       [3, 9, 2]])"
      ]
     },
     "execution_count": 48,
     "metadata": {},
     "output_type": "execute_result"
    }
   ],
   "source": [
    "XYZ_mat = np.array([[1,2,3,7,1],[1,2,3,8,1],[5,2,3,4,2],[1,3,2,9,2]])\n",
    "print XYZ_mat\n",
    "\n",
    "delete_all_except_ij(1,3,XYZ_mat)"
   ]
  },
  {
   "cell_type": "code",
   "execution_count": 49,
   "metadata": {
    "collapsed": true
   },
   "outputs": [],
   "source": [
    "def Wij(i,j,data_matrix,e):\n",
    "    \n",
    "    XYZ_mat = delete_all_except_ij(i,j,data_matrix)\n",
    "    num = cond_mutual_info(XYZ_mat,e)\n",
    "    \n",
    "    den = 0\n",
    "    no_of_attr = data_matrix.shape[1]-1\n",
    "    \n",
    "    for col_id in range(0,no_of_attr):\n",
    "        if col_id != i:\n",
    "            XYZ_mat = delete_all_except_ij(i,col_id,data_matrix)\n",
    "            den += cond_mutual_info(XYZ_mat,e)\n",
    "    \n",
    "    return float(num)/den"
   ]
  },
  {
   "cell_type": "code",
   "execution_count": 53,
   "metadata": {
    "collapsed": false
   },
   "outputs": [
    {
     "name": "stdout",
     "output_type": "stream",
     "text": [
      "[[1 2 3 7 1]\n",
      " [1 2 3 8 1]\n",
      " [5 2 3 4 2]\n",
      " [1 3 2 9 2]]\n"
     ]
    },
    {
     "data": {
      "text/plain": [
       "0.3292997271179316"
      ]
     },
     "execution_count": 53,
     "metadata": {},
     "output_type": "execute_result"
    }
   ],
   "source": [
    "XYZ_mat = np.array([[1,2,3,7,1],[1,2,3,8,1],[5,2,3,4,2],[1,3,2,9,2]])\n",
    "print XYZ_mat\n",
    "\n",
    "Wij(0,1,XYZ_mat,0.005)"
   ]
  },
  {
   "cell_type": "code",
   "execution_count": 66,
   "metadata": {
    "collapsed": false
   },
   "outputs": [],
   "source": [
    "def train_Wij_matrix(data_matrix,e):\n",
    "    '''Get the weights matrix. Its dimension will be n*n where n is the number of features'''\n",
    "    no_of_attr = data_matrix.shape[1]-1\n",
    "    \n",
    "    W_ij_mat = np.zeros((no_of_attr,no_of_attr))\n",
    "    \n",
    "    for x in range(0,no_of_attr):\n",
    "        for y in range(0,no_of_attr):\n",
    "            if x!=y:                \n",
    "                W_ij_mat[x,y] = Wij(x,y,data_matrix,e)\n",
    "                print x, y\n",
    "    return W_ij_mat"
   ]
  },
  {
   "cell_type": "code",
   "execution_count": 67,
   "metadata": {
    "collapsed": false
   },
   "outputs": [
    {
     "name": "stdout",
     "output_type": "stream",
     "text": [
      "0 1\n",
      "0 2\n",
      "0 3\n",
      "1 0\n",
      "1 2\n",
      "1 3\n",
      "2 0\n",
      "2 1\n",
      "2 3\n",
      "3 0\n",
      "3 1\n",
      "3 2\n"
     ]
    },
    {
     "data": {
      "text/plain": [
       "array([[ 0.        ,  0.32723632,  0.41888009,  0.25388359],\n",
       "       [ 0.38814902,  0.        ,  0.36821267,  0.24363831],\n",
       "       [ 0.41839328,  0.31006783,  0.        ,  0.27153888],\n",
       "       [ 0.3472424 ,  0.28093554,  0.37182206,  0.        ]])"
      ]
     },
     "execution_count": 67,
     "metadata": {},
     "output_type": "execute_result"
    }
   ],
   "source": [
    "XYZ_mat = np.loadtxt('iris.data')\n",
    "\n",
    "train_Wij_matrix(XYZ_mat,0.005)"
   ]
  },
  {
   "cell_type": "code",
   "execution_count": null,
   "metadata": {
    "collapsed": true
   },
   "outputs": [],
   "source": []
  }
 ],
 "metadata": {
  "kernelspec": {
   "display_name": "Python 2",
   "language": "python",
   "name": "python2"
  },
  "language_info": {
   "codemirror_mode": {
    "name": "ipython",
    "version": 2
   },
   "file_extension": ".py",
   "mimetype": "text/x-python",
   "name": "python",
   "nbconvert_exporter": "python",
   "pygments_lexer": "ipython2",
   "version": "2.7.11"
  }
 },
 "nbformat": 4,
 "nbformat_minor": 0
}
