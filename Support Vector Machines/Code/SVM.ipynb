{
 "cells": [
  {
   "cell_type": "markdown",
   "metadata": {},
   "source": [
    "#Support Vector Machines with 3 Kernels:\n",
    "<b>\n",
    "-Linear Kernel <br>\n",
    "-Polynomial Kernel<br>\n",
    "-Gaussian Kernel<br>\n",
    "</b>"
   ]
  },
  {
   "cell_type": "code",
   "execution_count": 2,
   "metadata": {
    "collapsed": false
   },
   "outputs": [],
   "source": [
    "%matplotlib inline\n",
    "import numpy as np\n",
    "import matplotlib.pyplot as mpl\n",
    "from sklearn.cross_validation import KFold \n",
    "from sklearn import datasets, linear_model\n",
    "from sklearn.preprocessing import PolynomialFeatures,normalize\n",
    "from collections import defaultdict\n",
    "import csv\n",
    "import cvxopt as cvx\n",
    "from cvxopt import solvers\n",
    "from sklearn.metrics.pairwise import rbf_kernel, polynomial_kernel"
   ]
  },
  {
   "cell_type": "code",
   "execution_count": 3,
   "metadata": {
    "collapsed": true
   },
   "outputs": [],
   "source": [
    "import warnings\n",
    "warnings.filterwarnings('ignore')"
   ]
  },
  {
   "cell_type": "code",
   "execution_count": 4,
   "metadata": {
    "collapsed": true
   },
   "outputs": [],
   "source": [
    "def replace_zero(x):\n",
    "    '''\n",
    "    To avoid divide by zero errors.\n",
    "    '''\n",
    "    if x == 0 :\n",
    "        return 1\n",
    "    else:\n",
    "        return x"
   ]
  },
  {
   "cell_type": "code",
   "execution_count": 5,
   "metadata": {
    "collapsed": true
   },
   "outputs": [],
   "source": [
    "def print_perf_measures(conf_matrix,perf_measures):\n",
    "    '''Print the Performance Measures'''\n",
    "    \n",
    "    print '\\nConfusion Matrix : \\n' + str(conf_matrix) + '\\n'\n",
    "    print 'Accuracy : ' + '\\n' + str(perf_measures['acc'])\n",
    "\n",
    "    #Precision,Recall and F-Measure :\n",
    "    for cls in perf_measures['rec'].keys():\n",
    "        print 'Precision of class '+ str(cls) + ' is : \\n' + str(perf_measures['prec'][cls])\n",
    "        print 'Recall of class '+ str(cls) + ' is : \\n' + str(perf_measures['rec'][cls])\n",
    "        print 'F-Measure of class '+ str(cls) + ' is : \\n' + str(perf_measures['F-Measure'][cls])\n",
    "        print ''"
   ]
  },
  {
   "cell_type": "code",
   "execution_count": 6,
   "metadata": {
    "collapsed": true
   },
   "outputs": [],
   "source": [
    "def evaluate_performance(conf_matrix):\n",
    "    '''\n",
    "    For a confusion matrix, compute accuracy, precison, recall and F-Measure.\n",
    "    '''    \n",
    "    measure_and_value = defaultdict(lambda : defaultdict(lambda : 0.0) )\n",
    "    \n",
    "    #Accuracy\n",
    "    measure_and_value['acc'] = float(conf_matrix.trace())/replace_zero(np.sum(conf_matrix))\n",
    "    \n",
    "    #Precision\n",
    "    for r_num,row in enumerate(conf_matrix):\n",
    "        measure_and_value['prec'][r_num+1] = conf_matrix[r_num,r_num] / replace_zero(sum(row))\n",
    "    \n",
    "    \n",
    "    conf_mat_trans = np.transpose(conf_matrix)\n",
    "    \n",
    "    #Recall\n",
    "    for r_num,row in enumerate(conf_mat_trans):\n",
    "        measure_and_value['rec'][r_num+1] = conf_mat_trans[r_num,r_num] / replace_zero(sum(row))\n",
    "    \n",
    "    #F-Measure\n",
    "    for j in measure_and_value['rec'].keys():\n",
    "        nr = 2 * measure_and_value['prec'][j] * measure_and_value['rec'][j]\n",
    "        dr = measure_and_value['prec'][j] + measure_and_value['rec'][j]\n",
    "        \n",
    "        measure_and_value['F-Measure'][j] = float(nr) / replace_zero(dr)\n",
    "            \n",
    "    return measure_and_value"
   ]
  },
  {
   "cell_type": "code",
   "execution_count": 7,
   "metadata": {
    "collapsed": false
   },
   "outputs": [],
   "source": [
    "def plot_data(X_data,Y_data,plot_type='bo',X_name='X-axis',Y_name='Y-axis',multi_plot='N',X2_data='N',Y2_data='N',plot2_type='N',title='Graph',\n",
    "              third_plot = 'N',X3_data='N',Y3_data='N',plot3_type='N'):\n",
    "    '''Plot data on to screen'''\n",
    "    fig = mpl.figure()\n",
    "    fig.suptitle(title)\n",
    "    ax = fig.add_subplot(111)\n",
    "    ax.set_xlabel(X_name)    \n",
    "    ax.set_ylabel(Y_name)           \n",
    "    ax.plot(X_data,Y_data,plot_type)    \n",
    "    if multi_plot == 'Y':        \n",
    "        ax.plot(X2_data,Y2_data,plot2_type)\n",
    "    if third_plot == 'Y':\n",
    "        ax.plot(X3_data,Y3_data,plot3_type)\n",
    "    mpl.show()"
   ]
  },
  {
   "cell_type": "code",
   "execution_count": 8,
   "metadata": {
    "collapsed": false
   },
   "outputs": [],
   "source": [
    "def write_data_mat_to_disc(data_mat,file_name):\n",
    "    '''Write the list of lists onto a file'''\n",
    "    with open(file_name, \"wb\") as f:\n",
    "        writer = csv.writer(f)\n",
    "        writer.writerows(data_mat)"
   ]
  },
  {
   "cell_type": "code",
   "execution_count": 9,
   "metadata": {
    "collapsed": false
   },
   "outputs": [],
   "source": [
    "def generate_lin_sep_data(X,offset,y):    \n",
    "    '''Generate the linearly seperable data in the form a numpy matrix.\n",
    "       Then write the matrix on to disc'''\n",
    "    \n",
    "    #Fix X and Vary Y.\n",
    "    \n",
    "    data_matrix = []\n",
    "\n",
    "    for j in np.arange(0,X):\n",
    "        for i in range(0,y):\n",
    "            data_matrix.append([X-j,i,1])\n",
    "\n",
    "\n",
    "    X = X + offset\n",
    "\n",
    "    for j in np.arange(X):\n",
    "        for i in range(0,y):\n",
    "            data_matrix.append([X+j,i,-1])\n",
    "    \n",
    "    return data_matrix"
   ]
  },
  {
   "cell_type": "code",
   "execution_count": 10,
   "metadata": {
    "collapsed": true
   },
   "outputs": [],
   "source": [
    "def generate_non_lin_sep_data(X,offset,y=None):    \n",
    "    '''Generate the Non linearly seperable data in the form a numpy matrix.\n",
    "       Then write the matrix on to disc'''\n",
    "    \n",
    "    #Equation of discriminant is assumed to be Y = X^0.5\n",
    "    \n",
    "    data_matrix = []\n",
    "\n",
    "    for j in np.arange(0,X):\n",
    "        for x in range(0,X+1):\n",
    "            data_matrix.append([x-j,x**0.5,1])\n",
    "\n",
    "\n",
    "    for j in np.arange(0,X):\n",
    "        for x in range(0,X+1):\n",
    "            data_matrix.append([x+offset+j,x**0.5,-1])\n",
    "    \n",
    "    return data_matrix"
   ]
  },
  {
   "cell_type": "code",
   "execution_count": 11,
   "metadata": {
    "collapsed": false
   },
   "outputs": [],
   "source": [
    "def generate_data(sep_type,X,offset,y):\n",
    "    '''Call the respective function to generate Linear or non linear seperable data, as specified in the parameter'''\n",
    "    \n",
    "    if sep_type == 'L':\n",
    "        data_mat = generate_lin_sep_data(X,offset,y)\n",
    "        file_name = 'linsep.csv'\n",
    "    else:\n",
    "        data_mat = generate_non_lin_sep_data(X,offset,y)\n",
    "        file_name = 'non_linsep.csv'\n",
    "        \n",
    "    write_data_mat_to_disc(data_mat,file_name)\n",
    "    data = np.loadtxt(file_name,delimiter=',')\n",
    "\n",
    "\n",
    "    X1_data = []\n",
    "    y1_data = []\n",
    "    X2_data = []\n",
    "    y2_data = []\n",
    "\n",
    "\n",
    "    for row in data:\n",
    "        if row[2] == 1:\n",
    "            X1_data.append(row[0])\n",
    "            y1_data.append(row[1])\n",
    "        else:\n",
    "            X2_data.append(row[0])\n",
    "            y2_data.append(row[1])\n",
    "    \n",
    "    return X1_data,y1_data,X2_data,y2_data"
   ]
  },
  {
   "cell_type": "markdown",
   "metadata": {},
   "source": [
    "###Generate Linearly and Non-Linearly Seperable data, write them onto disc and plot them"
   ]
  },
  {
   "cell_type": "code",
   "execution_count": 12,
   "metadata": {
    "collapsed": true
   },
   "outputs": [],
   "source": [
    "def plot_SVM_data(X,offset,y):\n",
    "    '''Generate and plot the data points'''\n",
    "    \n",
    "    for sep_type in ['L','NL']:\n",
    "        X1,y1,X2,y2 = generate_data(sep_type,X,offset,y)\n",
    "        if sep_type == 'L':\n",
    "            title = 'Linearly Seperable'\n",
    "        else:\n",
    "            title = 'Non Linearly Seperable'\n",
    "        plot_data(X1,y1,'r.','X-axis','Y-axis','Y',X2,y2,'b.',title)"
   ]
  },
  {
   "cell_type": "code",
   "execution_count": 13,
   "metadata": {
    "collapsed": false
   },
   "outputs": [
    {
     "data": {
      "image/png": "[encoded data removed]",
      "text/plain": [
       "<matplotlib.figure.Figure at 0x7d5add8>"
      ]
     },
     "metadata": {},
     "output_type": "display_data"
    },
    {
     "data": {
      "image/png": "[encoded data removed]",
      "text/plain": [
       "<matplotlib.figure.Figure at 0x7e0ec88>"
      ]
     },
     "metadata": {},
     "output_type": "display_data"
    }
   ],
   "source": [
    "plot_SVM_data(20,2,20)"
   ]
  },
  {
   "cell_type": "code",
   "execution_count": 14,
   "metadata": {
    "collapsed": false
   },
   "outputs": [],
   "source": [
    "def compute_lagrange_multipliers(file_name,c=1,kernel=None,deg=2,gam=2):\n",
    "    '''Compute the Lagrange Multipliers for all the examples and return them'''\n",
    "    \n",
    "    data = np.loadtxt(file_name,delimiter=',')\n",
    "\n",
    "    \n",
    "    m = data.shape[0]\n",
    "    row_len = data.shape[1]\n",
    "\n",
    "    Y = data[:,row_len-1:]\n",
    "    YY_transpose = np.outer(Y,Y)\n",
    "\n",
    "    X = data[:,0:row_len-1]\n",
    "    \n",
    "    \n",
    "    XX_transpose  = np.zeros((m,m))\n",
    "\n",
    "    for i in range(m):\n",
    "        for j in range(m):\n",
    "              XX_transpose[i,j] = np.dot(X[i], X[j])\n",
    "    \n",
    "    p = cvx.matrix(YY_transpose*XX_transpose)\n",
    "    \n",
    "    if kernel == 'poly':        \n",
    "        XX_transpose = polynomial_kernel(X, X, degree=deg)\n",
    "        polynomial_matrix = PolynomialFeatures(degree = deg)\n",
    "        X = polynomial_matrix.fit_transform(X)\n",
    "        p = cvx.matrix(Y.T * XX_transpose * Y)\n",
    "    elif kernel == 'gaussian':\n",
    "        XX_transpose = rbf_kernel(X, X, gamma=gam)\n",
    "        p = cvx.matrix(Y.T * XX_transpose * Y)\n",
    "    \n",
    "    \n",
    "    q = cvx.matrix(np.ones((m))*-1)\n",
    "\n",
    "    g_top    = np.diag((np.ones(m)*-1))\n",
    "    g_bottom = np.diag((np.ones(m)))\n",
    "    g = cvx.matrix(np.concatenate((g_top, g_bottom), axis=0))\n",
    "\n",
    "    h_top = np.zeros(m)\n",
    "    h_bottom = (np.ones(m)*c)\n",
    "\n",
    "    h = cvx.matrix(np.concatenate((h_top,h_bottom),axis=0))\n",
    "\n",
    "    a = cvx.matrix(np.transpose(Y))\n",
    "    b= cvx.matrix(0.0)\n",
    "\n",
    "\n",
    "    sol = solvers.qp(p,q,g,h,a,b)\n",
    "    alpha = (sol['x'])\n",
    "    alpha = np.ravel(alpha)\n",
    "    \n",
    "    return alpha"
   ]
  },
  {
   "cell_type": "code",
   "execution_count": 15,
   "metadata": {
    "collapsed": true
   },
   "outputs": [],
   "source": [
    "def plot_support_vectors(sup_vecs,data,description):\n",
    "    '''Plot the identified support vectors in green color'''\n",
    "    \n",
    "    X1_data = []\n",
    "    y1_data = []\n",
    "    X2_data = []\n",
    "    y2_data = []\n",
    "    X3_data = []\n",
    "    y3_data = []\n",
    "\n",
    "    for id,row in enumerate(data):\n",
    "        if sup_vecs[id] == True:\n",
    "            X3_data.append(row[0])\n",
    "            y3_data.append(row[1])\n",
    "        elif row[2] == 1:\n",
    "            X1_data.append(row[0])\n",
    "            y1_data.append(row[1])\n",
    "        else:\n",
    "            X2_data.append(row[0])\n",
    "            y2_data.append(row[1])\n",
    "        \n",
    "    plot_data(X1_data,y1_data,'r.','X-axis','Y-axis','Y',X2_data,y2_data,'b.',description,'Y',X3_data,y3_data,'g.')"
   ]
  },
  {
   "cell_type": "code",
   "execution_count": 16,
   "metadata": {
    "collapsed": true
   },
   "outputs": [],
   "source": [
    "def train_SVM(file_name,c,alpha_threshold=0.01,plot_sup_vecs='N',kernel=None,deg=2,gam=2):\n",
    "    '''Perform Training using below 3 steps:\n",
    "       1. Solve the Dual Problem for Lagrange Multipliers\n",
    "       2. Identify the Support Vector set (Non Zero Lagrange Multipliers)\n",
    "       3. Compute W and W0\n",
    "    '''\n",
    "    \n",
    "    #Step 1\n",
    "    \n",
    "    alphas = compute_lagrange_multipliers(file_name,c,kernel,deg,gam)\n",
    "        \n",
    "    #Step2\n",
    "    sup_vecs = alphas > alpha_threshold\n",
    "    \n",
    "    data = np.loadtxt(file_name,delimiter=',')\n",
    "    \n",
    "    if plot_sup_vecs == 'Y':\n",
    "        plot_support_vectors(sup_vecs,data,file_name)\n",
    "    \n",
    "    m = data.shape[0]\n",
    "    row_len = data.shape[1]\n",
    "    Y = data[:,row_len-1:]    \n",
    "    X = data[:,0:row_len-1]\n",
    "    \n",
    "    #Step3\n",
    "    W = np.zeros(row_len-1)\n",
    "    \n",
    "    for i in range(m):\n",
    "        W += alphas[i]*Y[i][0]*X[i]\n",
    "    \n",
    "    W0 = np.zeros(row_len-1)\n",
    "        \n",
    "    no_of_sup_vecs = len([y for y in sup_vecs if y==True ])\n",
    "    \n",
    "    for i in range(m):\n",
    "        if sup_vecs[i] == True:\n",
    "            W0 += (Y[i][0] - np.dot(np.transpose(W),X[i]))\n",
    "    \n",
    "    W0 /= no_of_sup_vecs\n",
    "    \n",
    "    return W,W0"
   ]
  },
  {
   "cell_type": "code",
   "execution_count": 17,
   "metadata": {
    "collapsed": true
   },
   "outputs": [],
   "source": [
    "def predict(file_name,c,alpha_threshold,plot_sup_vecs='Y',kernel=None,deg=2,gam=2):\n",
    "    '''Predict and return the confusion matrix'''\n",
    "    #Train\n",
    "    W,W0 = train_SVM(file_name,c,alpha_threshold,plot_sup_vecs,kernel,deg,gam)\n",
    "    \n",
    "    #Test    \n",
    "    data = np.loadtxt(file_name,delimiter=',')\n",
    "    m = data.shape[0]\n",
    "    row_len = data.shape[1]\n",
    "\n",
    "    Y = data[:,row_len-1:]    \n",
    "\n",
    "    X = data[:,0:row_len-1]\n",
    "    \n",
    "    no_of_classes = len(set(data[:,row_len-1]))\n",
    "\n",
    "    conf_matrix = np.zeros((no_of_classes,no_of_classes))\n",
    "\n",
    "    for id,row in enumerate(X):    \n",
    "        actual_class = Y[id][0]\n",
    "        \n",
    "        if (np.dot(np.transpose(W),row) + W0)[0] > 0:\n",
    "            pred_class = 1\n",
    "        else:\n",
    "            pred_class = -1\n",
    "        \n",
    "        if pred_class == -1:\n",
    "            pred_class = 0\n",
    "        if actual_class == -1:\n",
    "            actual_class = 0\n",
    "        \n",
    "        conf_matrix[pred_class,actual_class] += 1\n",
    "        \n",
    "    return conf_matrix        "
   ]
  },
  {
   "cell_type": "code",
   "execution_count": 18,
   "metadata": {
    "collapsed": false
   },
   "outputs": [],
   "source": [
    "def train_test_evaluate(file_name,c,alpha_threshold,plot_sup_vecs='Y',kernel=None,deg=2,gam=2):\n",
    "    '''Evalute the performance of the SVM'''\n",
    "    \n",
    "    conf_matrix = predict(file_name,c,alpha_threshold,plot_sup_vecs,kernel,deg,gam)\n",
    "    perf_measures = evaluate_performance(conf_matrix)\n",
    "    print_perf_measures(conf_matrix,perf_measures)"
   ]
  },
  {
   "cell_type": "markdown",
   "metadata": {},
   "source": [
    "#Linear Kernel"
   ]
  },
  {
   "cell_type": "markdown",
   "metadata": {},
   "source": [
    "###Hard Margin - Linear Kernel"
   ]
  },
  {
   "cell_type": "code",
   "execution_count": 19,
   "metadata": {
    "collapsed": false
   },
   "outputs": [
    {
     "name": "stdout",
     "output_type": "stream",
     "text": [
      "     pcost       dcost       gap    pres   dres\n",
      " 0: -1.9627e+02 -1.4630e+03  6e+03  2e+00  6e-11\n",
      " 1: -1.3226e+02 -7.5717e+02  1e+03  3e-01  6e-11\n",
      " 2: -8.4110e+01 -2.1745e+02  3e+02  7e-02  4e-11\n",
      " 3: -5.6787e+01 -9.2935e+01  1e+02  3e-02  2e-11\n",
      " 4: -3.6507e+01 -5.5599e+01  7e+01  1e-02  2e-11\n",
      " 5: -3.1688e+01 -2.5323e+01  4e+01  7e-03  1e-11\n",
      " 6: -2.2238e+00 -3.3236e+01  4e+01  4e-03  6e-12\n",
      " 7: -3.1572e+00 -3.2302e+01  4e+01  3e-03  5e-12\n",
      " 8: -3.4054e+00 -1.9246e+01  3e+01  2e-03  3e-12\n",
      " 9: -4.9200e-01 -1.3437e+00  1e+00  8e-05  1e-12\n",
      "10: -4.9136e-01 -5.2772e-01  5e-02  3e-06  4e-13\n",
      "11: -4.9991e-01 -5.0028e-01  5e-04  3e-08  5e-13\n",
      "12: -5.0000e-01 -5.0000e-01  5e-06  3e-10  5e-13\n",
      "13: -5.0000e-01 -5.0000e-01  5e-08  3e-12  5e-13\n",
      "Optimal solution found.\n"
     ]
    },
    {
     "data": {
      "image/png": "[encoded data removed]",
      "text/plain": [
       "<matplotlib.figure.Figure at 0x7e17898>"
      ]
     },
     "metadata": {},
     "output_type": "display_data"
    },
    {
     "name": "stdout",
     "output_type": "stream",
     "text": [
      "\n",
      "Confusion Matrix : \n",
      "[[ 440.    0.]\n",
      " [   0.  400.]]\n",
      "\n",
      "Accuracy : \n",
      "1.0\n",
      "Precision of class 1 is : \n",
      "1.0\n",
      "Recall of class 1 is : \n",
      "1.0\n",
      "F-Measure of class 1 is : \n",
      "1.0\n",
      "\n",
      "Precision of class 2 is : \n",
      "1.0\n",
      "Recall of class 2 is : \n",
      "1.0\n",
      "F-Measure of class 2 is : \n",
      "1.0\n",
      "\n",
      "     pcost       dcost       gap    pres   dres\n",
      " 0: -2.0550e+02 -1.6926e+03  8e+03  3e+00  2e-11\n",
      " 1: -1.3687e+02 -9.5232e+02  1e+03  3e-01  2e-11\n",
      " 2: -9.0324e+01 -2.5060e+02  3e+02  6e-02  1e-11\n",
      " 3: -6.7563e+01 -1.1645e+02  1e+02  2e-02  9e-12\n",
      " 4: -5.7562e+01 -8.2504e+01  6e+01  1e-02  7e-12\n",
      " 5: -5.2049e+01 -6.8582e+01  4e+01  6e-03  5e-12\n",
      " 6: -4.9008e+01 -5.7958e+01  2e+01  3e-03  6e-12\n",
      " 7: -4.7783e+01 -5.2138e+01  8e+00  1e-03  6e-12\n",
      " 8: -4.7341e+01 -4.9040e+01  3e+00  4e-04  6e-12\n",
      " 9: -4.7202e+01 -4.8096e+01  2e+00  2e-04  5e-12\n",
      "10: -4.7151e+01 -4.7212e+01  8e-02  5e-06  6e-12\n",
      "11: -4.7171e+01 -4.7171e+01  8e-04  5e-08  6e-12\n",
      "12: -4.7171e+01 -4.7171e+01  8e-06  5e-10  6e-12\n",
      "Optimal solution found.\n"
     ]
    },
    {
     "data": {
      "image/png": "[encoded data removed]",
      "text/plain": [
       "<matplotlib.figure.Figure at 0x90bd7b8>"
      ]
     },
     "metadata": {},
     "output_type": "display_data"
    },
    {
     "name": "stdout",
     "output_type": "stream",
     "text": [
      "\n",
      "Confusion Matrix : \n",
      "[[ 411.    8.]\n",
      " [   9.  412.]]\n",
      "\n",
      "Accuracy : \n",
      "0.979761904762\n",
      "Precision of class 1 is : \n",
      "0.980906921241\n",
      "Recall of class 1 is : \n",
      "0.978571428571\n",
      "F-Measure of class 1 is : \n",
      "0.979737783075\n",
      "\n",
      "Precision of class 2 is : \n",
      "0.978622327791\n",
      "Recall of class 2 is : \n",
      "0.980952380952\n",
      "F-Measure of class 2 is : \n",
      "0.979785969084\n",
      "\n"
     ]
    }
   ],
   "source": [
    "for file_name in ['linsep.csv','non_linsep.csv']:\n",
    "    train_test_evaluate(file_name,1,0.01,plot_sup_vecs='Y',kernel='linear')"
   ]
  },
  {
   "cell_type": "markdown",
   "metadata": {},
   "source": [
    "### Soft Margin - Linear Kernel"
   ]
  },
  {
   "cell_type": "code",
   "execution_count": 20,
   "metadata": {
    "collapsed": false
   },
   "outputs": [
    {
     "name": "stdout",
     "output_type": "stream",
     "text": [
      "     pcost       dcost       gap    pres   dres\n",
      " 0: -1.0304e+02 -6.6091e+01  4e+03  4e+01  3e-11\n",
      " 1: -1.0514e+01 -6.2698e+01  1e+02  1e+00  3e-11\n",
      " 2: -7.0427e+00 -2.6403e+01  3e+01  2e-01  6e-12\n",
      " 3: -4.8522e+00 -1.0702e+01  1e+01  8e-02  3e-12\n",
      " 4: -3.6598e+00 -6.3247e+00  7e+00  4e-02  2e-12\n",
      " 5: -2.8779e+00 -4.0093e+00  4e+00  2e-02  1e-12\n",
      " 6: -1.7652e+00 -3.1595e+00  3e+00  1e-02  8e-13\n",
      " 7: -1.5289e+00 -1.6937e+00  1e+00  5e-03  6e-13\n",
      " 8: -1.2072e+00 -1.2371e+00  1e+00  4e-03  6e-13\n",
      " 9: -2.4437e-01 -8.0395e-01  6e-01  3e-16  6e-13\n",
      "10: -4.8535e-01 -5.3506e-01  5e-02  3e-16  4e-13\n",
      "11: -4.9985e-01 -5.0038e-01  5e-04  4e-16  4e-13\n",
      "12: -5.0000e-01 -5.0000e-01  5e-06  8e-16  4e-13\n",
      "13: -5.0000e-01 -5.0000e-01  5e-08  9e-16  4e-13\n",
      "Optimal solution found.\n"
     ]
    },
    {
     "data": {
      "image/png": "[encoded data removed]",
      "text/plain": [
       "<matplotlib.figure.Figure at 0x819b240>"
      ]
     },
     "metadata": {},
     "output_type": "display_data"
    },
    {
     "name": "stdout",
     "output_type": "stream",
     "text": [
      "\n",
      "Confusion Matrix : \n",
      "[[ 440.    0.]\n",
      " [   0.  400.]]\n",
      "\n",
      "Accuracy : \n",
      "1.0\n",
      "Precision of class 1 is : \n",
      "1.0\n",
      "Recall of class 1 is : \n",
      "1.0\n",
      "F-Measure of class 1 is : \n",
      "1.0\n",
      "\n",
      "Precision of class 2 is : \n",
      "1.0\n",
      "Recall of class 2 is : \n",
      "1.0\n",
      "F-Measure of class 2 is : \n",
      "1.0\n",
      "\n",
      "     pcost       dcost       gap    pres   dres\n",
      " 0: -1.0795e+02 -7.3149e+01  4e+03  5e+01  9e-12\n",
      " 1: -1.1103e+01 -6.9791e+01  2e+02  1e+00  8e-12\n",
      " 2: -7.3841e+00 -3.2301e+01  4e+01  2e-01  2e-12\n",
      " 3: -5.2686e+00 -1.2686e+01  1e+01  6e-02  9e-13\n",
      " 4: -4.3813e+00 -6.1521e+00  3e+00  1e-02  7e-13\n",
      " 5: -4.2735e+00 -4.6799e+00  6e-01  2e-03  6e-13\n",
      " 6: -4.2924e+00 -4.3971e+00  1e-01  5e-04  5e-13\n",
      " 7: -4.2951e+00 -4.3346e+00  5e-02  1e-04  6e-13\n",
      " 8: -4.3028e+00 -4.3128e+00  1e-02  2e-05  6e-13\n",
      " 9: -4.3061e+00 -4.3064e+00  3e-04  4e-15  7e-13\n",
      "10: -4.3062e+00 -4.3062e+00  3e-06  5e-15  6e-13\n",
      "Optimal solution found.\n"
     ]
    },
    {
     "data": {
      "image/png": "[encoded data removed]",
      "text/plain": [
       "<matplotlib.figure.Figure at 0x834c278>"
      ]
     },
     "metadata": {},
     "output_type": "display_data"
    },
    {
     "name": "stdout",
     "output_type": "stream",
     "text": [
      "\n",
      "Confusion Matrix : \n",
      "[[ 411.   12.]\n",
      " [   9.  408.]]\n",
      "\n",
      "Accuracy : \n",
      "0.975\n",
      "Precision of class 1 is : \n",
      "0.971631205674\n",
      "Recall of class 1 is : \n",
      "0.978571428571\n",
      "F-Measure of class 1 is : \n",
      "0.975088967972\n",
      "\n",
      "Precision of class 2 is : \n",
      "0.978417266187\n",
      "Recall of class 2 is : \n",
      "0.971428571429\n",
      "F-Measure of class 2 is : \n",
      "0.974910394265\n",
      "\n"
     ]
    }
   ],
   "source": [
    "for file_name in ['linsep.csv','non_linsep.csv']:\n",
    "    train_test_evaluate(file_name,0.05,0.01,plot_sup_vecs='Y',kernel='linear')"
   ]
  },
  {
   "cell_type": "markdown",
   "metadata": {},
   "source": [
    "# Polynomial Kernel"
   ]
  },
  {
   "cell_type": "code",
   "execution_count": 21,
   "metadata": {
    "collapsed": false
   },
   "outputs": [
    {
     "name": "stdout",
     "output_type": "stream",
     "text": [
      "     pcost       dcost       gap    pres   dres\n",
      " 0: -1.0220e+02 -6.5487e+01  3e+03  4e+01  1e-09\n",
      " 1: -1.0448e+01 -6.2096e+01  1e+02  1e+00  1e-09\n",
      " 2: -7.0215e+00 -2.6601e+01  3e+01  2e-01  3e-10\n",
      " 3: -4.9660e+00 -1.1989e+01  1e+01  9e-02  1e-10\n",
      " 4: -3.7593e+00 -6.9163e+00  8e+00  4e-02  7e-11\n",
      " 5: -2.9765e+00 -4.7770e+00  5e+00  3e-02  5e-11\n",
      " 6: -2.5007e+00 -4.1821e+00  5e+00  2e-02  4e-11\n",
      " 7: -2.0562e+00 -3.3224e+00  3e+00  1e-02  3e-11\n",
      " 8: -1.8410e+00 -2.8233e+00  3e+00  1e-02  2e-11\n",
      " 9: -1.6090e+00 -2.6410e+00  3e+00  9e-03  2e-11\n",
      "10: -1.4748e+00 -2.4067e+00  2e+00  7e-03  2e-11\n",
      "11: -1.2779e+00 -2.0754e+00  2e+00  5e-03  2e-11\n",
      "12: -1.1079e+00 -1.8117e+00  1e+00  3e-03  2e-11\n",
      "13: -1.0483e+00 -1.6272e+00  1e+00  2e-03  2e-11\n",
      "14: -1.0195e+00 -1.2288e+00  3e-01  4e-04  2e-11\n",
      "15: -1.0510e+00 -1.0886e+00  4e-02  2e-05  2e-11\n",
      "16: -1.0641e+00 -1.0692e+00  5e-03  2e-06  2e-11\n",
      "17: -1.0663e+00 -1.0664e+00  7e-05  2e-08  2e-11\n",
      "18: -1.0663e+00 -1.0663e+00  7e-07  2e-10  2e-11\n",
      "Optimal solution found.\n"
     ]
    },
    {
     "data": {
      "image/png": "[encoded data removed]",
      "text/plain": [
       "<matplotlib.figure.Figure at 0x80adac8>"
      ]
     },
     "metadata": {},
     "output_type": "display_data"
    },
    {
     "name": "stdout",
     "output_type": "stream",
     "text": [
      "\n",
      "Confusion Matrix : \n",
      "[[ 385.   64.]\n",
      " [  35.  356.]]\n",
      "\n",
      "Accuracy : \n",
      "0.882142857143\n",
      "Precision of class 1 is : \n",
      "0.857461024499\n",
      "Recall of class 1 is : \n",
      "0.916666666667\n",
      "F-Measure of class 1 is : \n",
      "0.886075949367\n",
      "\n",
      "Precision of class 2 is : \n",
      "0.910485933504\n",
      "Recall of class 2 is : \n",
      "0.847619047619\n",
      "F-Measure of class 2 is : \n",
      "0.877928483354\n",
      "\n"
     ]
    }
   ],
   "source": [
    "for file_name in ['non_linsep.csv']:\n",
    "    train_test_evaluate(file_name,0.05,0.01,plot_sup_vecs='Y',kernel='poly',deg=2)"
   ]
  },
  {
   "cell_type": "markdown",
   "metadata": {},
   "source": [
    "#Gaussian Kernel"
   ]
  },
  {
   "cell_type": "code",
   "execution_count": 22,
   "metadata": {
    "collapsed": false
   },
   "outputs": [
    {
     "name": "stdout",
     "output_type": "stream",
     "text": [
      "     pcost       dcost       gap    pres   dres\n",
      " 0: -7.2588e+01 -1.4194e+03  6e+03  2e+00  7e-15\n",
      " 1: -4.0356e+01 -6.9272e+02  8e+02  9e-02  9e-15\n",
      " 2: -5.2347e+01 -1.8553e+02  1e+02  2e-02  7e-15\n",
      " 3: -6.8696e+01 -1.1018e+02  4e+01  3e-03  8e-15\n",
      " 4: -7.4272e+01 -9.0879e+01  2e+01  1e-03  8e-15\n",
      " 5: -7.6737e+01 -8.2507e+01  6e+00  3e-04  8e-15\n",
      " 6: -7.7701e+01 -7.9658e+01  2e+00  7e-05  1e-14\n",
      " 7: -7.7850e+01 -7.9322e+01  1e+00  4e-05  8e-15\n",
      " 8: -7.8208e+01 -7.8583e+01  4e-01  7e-06  8e-15\n",
      " 9: -7.8282e+01 -7.8461e+01  2e-01  2e-06  8e-15\n",
      "10: -7.8346e+01 -7.8368e+01  2e-02  2e-07  9e-15\n",
      "11: -7.8354e+01 -7.8357e+01  3e-03  1e-08  9e-15\n",
      "12: -7.8356e+01 -7.8356e+01  1e-04  7e-10  1e-14\n",
      "13: -7.8356e+01 -7.8356e+01  2e-05  4e-11  9e-15\n",
      "Optimal solution found.\n"
     ]
    },
    {
     "data": {
      "image/png": "[encoded data removed]",
      "text/plain": [
       "<matplotlib.figure.Figure at 0x8287128>"
      ]
     },
     "metadata": {},
     "output_type": "display_data"
    },
    {
     "name": "stdout",
     "output_type": "stream",
     "text": [
      "\n",
      "Confusion Matrix : \n",
      "[[ 366.   45.]\n",
      " [  54.  375.]]\n",
      "\n",
      "Accuracy : \n",
      "0.882142857143\n",
      "Precision of class 1 is : \n",
      "0.890510948905\n",
      "Recall of class 1 is : \n",
      "0.871428571429\n",
      "F-Measure of class 1 is : \n",
      "0.880866425993\n",
      "\n",
      "Precision of class 2 is : \n",
      "0.874125874126\n",
      "Recall of class 2 is : \n",
      "0.892857142857\n",
      "F-Measure of class 2 is : \n",
      "0.883392226148\n",
      "\n"
     ]
    }
   ],
   "source": [
    "for file_name in ['non_linsep.csv']:\n",
    "    train_test_evaluate(file_name,1,0.01,plot_sup_vecs='Y',kernel='gaussian',gam=0.08)"
   ]
  },
  {
   "cell_type": "markdown",
   "metadata": {},
   "source": [
    "### SVM on Dataset with more examples of a particular class"
   ]
  },
  {
   "cell_type": "code",
   "execution_count": 23,
   "metadata": {
    "collapsed": false
   },
   "outputs": [
    {
     "name": "stdout",
     "output_type": "stream",
     "text": [
      "     pcost       dcost       gap    pres   dres\n",
      " 0: -3.7933e+01 -4.0210e+01  2e+03  5e+01  7e-11\n",
      " 1: -4.1707e+00 -3.8219e+01  1e+02  1e+00  7e-11\n",
      " 2: -2.8268e+00 -1.8351e+01  3e+01  3e-01  2e-11\n",
      " 3: -1.7813e+00 -6.3845e+00  8e+00  8e-02  8e-12\n",
      " 4: -1.2493e+00 -2.6266e+00  2e+00  2e-02  5e-12\n",
      " 5: -1.1165e+00 -1.4543e+00  6e-01  5e-03  4e-12\n",
      " 6: -1.0606e+00 -1.2851e+00  3e-01  2e-03  3e-12\n",
      " 7: -1.0591e+00 -1.1105e+00  7e-02  4e-04  3e-12\n",
      " 8: -1.0656e+00 -1.0692e+00  5e-03  2e-05  4e-12\n",
      " 9: -1.0663e+00 -1.0665e+00  2e-04  7e-07  5e-12\n",
      "10: -1.0663e+00 -1.0663e+00  2e-06  7e-09  6e-12\n",
      "11: -1.0663e+00 -1.0663e+00  2e-08  7e-11  4e-12\n",
      "Optimal solution found.\n"
     ]
    },
    {
     "data": {
      "image/png": "[encoded data removed]",
      "text/plain": [
       "<matplotlib.figure.Figure at 0x80adb38>"
      ]
     },
     "metadata": {},
     "output_type": "display_data"
    },
    {
     "name": "stdout",
     "output_type": "stream",
     "text": [
      "\n",
      "Confusion Matrix : \n",
      "[[  28.   64.]\n",
      " [  21.  356.]]\n",
      "\n",
      "Accuracy : \n",
      "0.818763326226\n",
      "Precision of class 1 is : \n",
      "0.304347826087\n",
      "Recall of class 1 is : \n",
      "0.571428571429\n",
      "F-Measure of class 1 is : \n",
      "0.397163120567\n",
      "\n",
      "Precision of class 2 is : \n",
      "0.944297082228\n",
      "Recall of class 2 is : \n",
      "0.847619047619\n",
      "F-Measure of class 2 is : \n",
      "0.893350062735\n",
      "\n"
     ]
    }
   ],
   "source": [
    "for file_name in ['biased_data.csv']:\n",
    "    train_test_evaluate(file_name,0.05,0.01,plot_sup_vecs='Y',kernel='poly',deg=2)"
   ]
  }
 ],
 "metadata": {
  "kernelspec": {
   "display_name": "Python 2",
   "language": "python",
   "name": "python2"
  },
  "language_info": {
   "codemirror_mode": {
    "name": "ipython",
    "version": 2
   },
   "file_extension": ".py",
   "mimetype": "text/x-python",
   "name": "python",
   "nbconvert_exporter": "python",
   "pygments_lexer": "ipython2",
   "version": "2.7.11"
  }
 },
 "nbformat": 4,
 "nbformat_minor": 0
}
