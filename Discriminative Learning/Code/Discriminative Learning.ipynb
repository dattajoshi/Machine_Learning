{
 "cells": [
  {
   "cell_type": "markdown",
   "metadata": {},
   "source": [
    "<h1><center>CS 584 Assignment 3 : Discriminative Learning</center><h1>"
   ]
  },
  {
   "cell_type": "markdown",
   "metadata": {},
   "source": [
    "###2 Class Discrimination using Logistic Regression:"
   ]
  },
  {
   "cell_type": "code",
   "execution_count": 1,
   "metadata": {
    "collapsed": true
   },
   "outputs": [],
   "source": [
    "%matplotlib inline\n",
    "import numpy as np\n",
    "import matplotlib.pyplot as mpl\n",
    "from sklearn.cross_validation import KFold \n",
    "from sklearn.preprocessing import PolynomialFeatures\n",
    "from collections import defaultdict\n",
    "import math\n",
    "from sklearn.datasets import fetch_mldata\n",
    "import os\n",
    "from pylab import *\n",
    "import cPickle, gzip"
   ]
  },
  {
   "cell_type": "code",
   "execution_count": 2,
   "metadata": {
    "collapsed": true
   },
   "outputs": [],
   "source": [
    "import warnings\n",
    "warnings.filterwarnings('ignore')"
   ]
  },
  {
   "cell_type": "code",
   "execution_count": 3,
   "metadata": {
    "collapsed": true
   },
   "outputs": [],
   "source": [
    "def replace_zero(x):\n",
    "    '''\n",
    "    To avoid divide by zero errors.\n",
    "    '''\n",
    "    if x == 0 :\n",
    "        return 1\n",
    "    else:\n",
    "        return x"
   ]
  },
  {
   "cell_type": "code",
   "execution_count": 4,
   "metadata": {
    "collapsed": true
   },
   "outputs": [],
   "source": [
    "def print_perf_measures(conf_matrix,perf_measures):\n",
    "    '''Print the Performance Measures'''\n",
    "    \n",
    "    print '\\nConfusion Matrix : \\n' + str(conf_matrix) + '\\n'\n",
    "    print 'Accuracy : ' + '\\n' + str(perf_measures['acc'])\n",
    "\n",
    "    #Precision,Recall and F-Measure :\n",
    "    for cls in perf_measures['rec'].keys():\n",
    "        print 'Precision of class '+ str(cls) + ' is : \\n' + str(perf_measures['prec'][cls])\n",
    "        print 'Recall of class '+ str(cls) + ' is : \\n' + str(perf_measures['rec'][cls])\n",
    "        print 'F-Measure of class '+ str(cls) + ' is : \\n' + str(perf_measures['F-Measure'][cls])\n",
    "        print ''\n"
   ]
  },
  {
   "cell_type": "code",
   "execution_count": 5,
   "metadata": {
    "collapsed": true
   },
   "outputs": [],
   "source": [
    "def evaluate_performance(conf_matrix):\n",
    "    '''\n",
    "    For a confusion matrix, compute accuracy, precison, recall and F-Measure.\n",
    "    '''    \n",
    "    measure_and_value = defaultdict(lambda : defaultdict(lambda : 0.0) )\n",
    "    \n",
    "    #Accuracy\n",
    "    measure_and_value['acc'] = float(conf_matrix.trace())/replace_zero(np.sum(conf_matrix))\n",
    "    \n",
    "    #Precision\n",
    "    for r_num,row in enumerate(conf_matrix):\n",
    "        measure_and_value['prec'][r_num+1] = conf_matrix[r_num,r_num] / replace_zero(sum(row))\n",
    "    \n",
    "    \n",
    "    conf_mat_trans = np.transpose(conf_matrix)\n",
    "    \n",
    "    #Recall\n",
    "    for r_num,row in enumerate(conf_mat_trans):\n",
    "        measure_and_value['rec'][r_num+1] = conf_mat_trans[r_num,r_num] / replace_zero(sum(row))\n",
    "    \n",
    "    #F-Measure\n",
    "    for j in measure_and_value['rec'].keys():\n",
    "        nr = 2 * measure_and_value['prec'][j] * measure_and_value['rec'][j]\n",
    "        dr = measure_and_value['prec'][j] + measure_and_value['rec'][j]\n",
    "        \n",
    "        measure_and_value['F-Measure'][j] = float(nr) / replace_zero(dr)\n",
    "            \n",
    "    return measure_and_value"
   ]
  },
  {
   "cell_type": "markdown",
   "metadata": {},
   "source": [
    "###Hypothesis : $h_\\theta(X^{i}) = \\frac{1}{1 + e^{-\\theta^T.X^i}}$"
   ]
  },
  {
   "cell_type": "code",
   "execution_count": 6,
   "metadata": {
    "collapsed": false
   },
   "outputs": [],
   "source": [
    "def h_theta(theta,x_i):\n",
    "    '''Return the P(y=1|x;theta)'''\n",
    "    z = np.dot((np.transpose(theta)),x_i)\n",
    "    denom = 1 + np.exp(-z)\n",
    "    return 1.0/denom"
   ]
  },
  {
   "cell_type": "markdown",
   "metadata": {},
   "source": [
    "####Perform Gradient Descent until $\\theta$ Converges:\n",
    "###$\\theta = \\theta - \\eta\\frac{1}{m}\\sum_{i=1}^m (h_\\theta(X^{i}) - y^i).X^i$"
   ]
  },
  {
   "cell_type": "code",
   "execution_count": 7,
   "metadata": {
    "collapsed": false
   },
   "outputs": [],
   "source": [
    "def gradient_descent(X,Y,num_iterations,lrn_rate=0.0001,poly_deg=1,print_theta=9):\n",
    "    '''\n",
    "    Perform Gradient Descent iteratively, until J(theta) becomes minimum.    \n",
    "    '''   \n",
    "    theta_vec = np.zeros(len(X[0]))    \n",
    "    no_of_examples = len(Y)\n",
    "    \n",
    "    for j in range(1,num_iterations+1):\n",
    "        \n",
    "        err_sum_vec = np.zeros(len(X[0]))\n",
    "        #Iterate over all data points\n",
    "        for i in range(0,no_of_examples):\n",
    "            \n",
    "            prob = h_theta(theta_vec,X[i])            \n",
    "            if prob > 0.5:\n",
    "                pred_lbl = 1\n",
    "            else:\n",
    "                pred_lbl = 0\n",
    "            \n",
    "            err_sum_vec += (pred_lbl - Y[i])*np.array(X[i])\n",
    "    \n",
    "        err_sum_vec /= float(no_of_examples)\n",
    "        err_sum_vec *= lrn_rate\n",
    "        \n",
    "        theta_vec = theta_vec - err_sum_vec\n",
    "            \n",
    "    return theta_vec"
   ]
  },
  {
   "cell_type": "code",
   "execution_count": 8,
   "metadata": {
    "collapsed": false
   },
   "outputs": [],
   "source": [
    "def predict(file_name,iterations,lrn_rate,poly_deg=1):        \n",
    "    '''Compute the accuracy of predictions using K-fold'''\n",
    "    \n",
    "    \n",
    "    data_matrix = np.loadtxt(file_name)\n",
    "    row_len = len(data_matrix[0])\n",
    "    \n",
    "    kf = KFold(len(data_matrix),10)\n",
    "        \n",
    "    unique_classes = set(data_matrix[:,row_len-1])\n",
    "    #binarize\n",
    "    no_of_classes = len(set([0 if y!=1 else 1 for y in unique_classes]))\n",
    "    conf_matrix = np.zeros((no_of_classes,no_of_classes))\n",
    "    \n",
    "    for tr_row_nums,tst_row_nums in kf:        \n",
    "        \n",
    "        X_train = []\n",
    "        Y_train = []\n",
    "\n",
    "        X_test = []\n",
    "        Y_test = []\n",
    "        \n",
    "        for row in tr_row_nums:\n",
    "            X_train.append(list(data_matrix[row][0:row_len-1]))\n",
    "            Y_train.append([data_matrix[row][row_len-1]])\n",
    "        \n",
    "        for row in tst_row_nums:\n",
    "            X_test.append(list(data_matrix[row][0:row_len-1]))\n",
    "            Y_test.append([data_matrix[row][row_len-1]])\n",
    "    \n",
    "        X_train = np.array(X_train)\n",
    "        Y_train = np.array(Y_train)\n",
    "\n",
    "        X_test = np.array(X_test)\n",
    "        Y_test = np.array(Y_test)\n",
    "        \n",
    "        #Binarize Labels\n",
    "        Y_train = [0 if y!=1 else 1 for y in Y_train]\n",
    "        Y_test  = [0 if y!=1 else 1 for y in Y_test]\n",
    "        \n",
    "        #Increase the dimensions of Feature matrix according to poly deg.\n",
    "        poly = PolynomialFeatures(poly_deg)\n",
    "        X_train = poly.fit_transform(X_train)\n",
    "        \n",
    "        poly = PolynomialFeatures(poly_deg)\n",
    "        X_test = poly.fit_transform(X_test)\n",
    "        \n",
    "        theta_vec = gradient_descent(X_train,Y_train,iterations,lrn_rate,poly_deg,9)\n",
    "        \n",
    "        no_of_examples = len(Y_test)        \n",
    "        \n",
    "        for i in range(0,no_of_examples):       \n",
    "        \n",
    "            prob = h_theta(theta_vec,X_test[i])                      \n",
    "            if prob > 0.5:\n",
    "                pred_lbl = 1        \n",
    "            else:\n",
    "                pred_lbl = 0        \n",
    "\n",
    "            conf_matrix[pred_lbl,Y_test[i]] += 1\n",
    "    \n",
    "    print 'Theta Vector ', theta_vec\n",
    "    return conf_matrix"
   ]
  },
  {
   "cell_type": "markdown",
   "metadata": {},
   "source": [
    "###Iterate 10 times, with a learning rate of 0.001 and poly order 1"
   ]
  },
  {
   "cell_type": "code",
   "execution_count": 9,
   "metadata": {
    "collapsed": false
   },
   "outputs": [
    {
     "name": "stdout",
     "output_type": "stream",
     "text": [
      "Theta Vector  [ 0.0004      0.00026     0.0022237  -0.00424296 -0.0018363 ]\n",
      "\n",
      "Confusion Matrix : \n",
      "[[ 99.   0.]\n",
      " [  1.  50.]]\n",
      "\n",
      "Accuracy : \n",
      "0.993333333333\n",
      "Precision of class 1 is : \n",
      "1.0\n",
      "Recall of class 1 is : \n",
      "0.99\n",
      "F-Measure of class 1 is : \n",
      "0.994974874372\n",
      "\n",
      "Precision of class 2 is : \n",
      "0.980392156863\n",
      "Recall of class 2 is : \n",
      "1.0\n",
      "F-Measure of class 2 is : \n",
      "0.990099009901\n",
      "\n"
     ]
    }
   ],
   "source": [
    "conf_matrix = predict('iris.data',10,0.001,poly_deg=1)\n",
    "perf_measures = evaluate_performance(conf_matrix)\n",
    "print_perf_measures(conf_matrix,perf_measures)"
   ]
  },
  {
   "cell_type": "markdown",
   "metadata": {},
   "source": [
    "###Iterate 10 times, with a learning rate of 0.001 and poly order 2"
   ]
  },
  {
   "cell_type": "code",
   "execution_count": 10,
   "metadata": {
    "collapsed": false
   },
   "outputs": [
    {
     "name": "stdout",
     "output_type": "stream",
     "text": [
      "Theta Vector  [ 0.00048148  0.00164815  0.00201037 -0.00140963 -0.00073259  0.00335859\n",
      "  0.00792852 -0.01101859 -0.00497059  0.00799393 -0.00313563 -0.00195378\n",
      " -0.01268511 -0.00461422 -0.00161904]\n",
      "\n",
      "Confusion Matrix : \n",
      "[[ 100.    0.]\n",
      " [   0.   50.]]\n",
      "\n",
      "Accuracy : \n",
      "1.0\n",
      "Precision of class 1 is : \n",
      "1.0\n",
      "Recall of class 1 is : \n",
      "1.0\n",
      "F-Measure of class 1 is : \n",
      "1.0\n",
      "\n",
      "Precision of class 2 is : \n",
      "1.0\n",
      "Recall of class 2 is : \n",
      "1.0\n",
      "F-Measure of class 2 is : \n",
      "1.0\n",
      "\n"
     ]
    }
   ],
   "source": [
    "conf_matrix = predict('iris.data',10,0.001,poly_deg=2)\n",
    "perf_measures = evaluate_performance(conf_matrix)\n",
    "print_perf_measures(conf_matrix, perf_measures)"
   ]
  },
  {
   "cell_type": "markdown",
   "metadata": {},
   "source": [
    "###K-Class Discrimination using Logistic Regression with One-vs-all:\n",
    "####$h_\\theta^{(j)}(X^{i}) = P(y=j | x ; \\theta)$      and                $ j \\in $ {1,2,3...} \n",
    "####$ŷ = \\underset{j}{\\operatorname{argmax}} h_\\theta^{(j)}(X)$ "
   ]
  },
  {
   "cell_type": "code",
   "execution_count": 11,
   "metadata": {
    "collapsed": true
   },
   "outputs": [],
   "source": [
    "def binarize_wrt_class(Y,cls):\n",
    "    '''Binarize the class labels.\n",
    "    if label == cls, then set 1 else set 0\n",
    "    '''\n",
    "    return [0 if y!= cls else 1 for y in Y]"
   ]
  },
  {
   "cell_type": "code",
   "execution_count": 12,
   "metadata": {
    "collapsed": false
   },
   "outputs": [],
   "source": [
    "def multi_cls_train(file_name,iterations,lrn_rate,poly_deg=1):            \n",
    "    '''Train a Logistic Regression classifier for k classes. \n",
    "       Return the theta vectors for all k classes'''\n",
    "    \n",
    "    data_matrix = np.loadtxt(file_name)\n",
    "    row_len = len(data_matrix[0])\n",
    "    \n",
    "    X_matrix = data_matrix[:,:row_len-1]\n",
    "    Y = data_matrix[:,row_len-1:]\n",
    "    \n",
    "    Y = [y[0] for y in Y.tolist()]\n",
    "    unique_classes = set(Y)\n",
    "    \n",
    "    theta_j_vecs = []\n",
    "    \n",
    "    for cls_j in unique_classes:\n",
    "        new_Y = binarize_wrt_class(Y,cls_j)\n",
    "        \n",
    "        #Increase the dimensions of Feature matrix according to poly deg.\n",
    "        poly = PolynomialFeatures(poly_deg)\n",
    "        new_X_matrix = poly.fit_transform(X_matrix)\n",
    "        \n",
    "        theta_vec = gradient_descent(new_X_matrix,new_Y,iterations,lrn_rate,poly_deg)\n",
    "        theta_j_vecs.append(theta_vec)\n",
    "    \n",
    "    return theta_j_vecs"
   ]
  },
  {
   "cell_type": "code",
   "execution_count": 13,
   "metadata": {
    "collapsed": true
   },
   "outputs": [],
   "source": [
    "def multi_cls_test(file_name,theta_j_vecs,poly_deg=1):\n",
    "    \n",
    "    data_matrix = np.loadtxt(file_name)\n",
    "    row_len = len(data_matrix[0])\n",
    "    \n",
    "    X_matrix = data_matrix[:,:row_len-1]\n",
    "    Y = data_matrix[:,row_len-1:]\n",
    "    \n",
    "    Y = [y[0] for y in Y.tolist()]\n",
    "    \n",
    "    #binarize\n",
    "    no_of_classes = len(set(Y))\n",
    "    conf_matrix = np.zeros((no_of_classes,no_of_classes))\n",
    "    \n",
    "    for row, X in enumerate(X_matrix):\n",
    "        \n",
    "        poly = PolynomialFeatures(poly_deg)\n",
    "        X = poly.fit_transform(X)\n",
    "        \n",
    "        max_prob = 0\n",
    "        pred_class = -1\n",
    "        \n",
    "        for i in range(0,len(set(Y))):     \n",
    "            pred_prob = h_theta(theta_j_vecs[i],X[0])\n",
    "            \n",
    "            if pred_prob > max_prob:\n",
    "                max_prob = pred_prob\n",
    "                pred_class = i+1\n",
    "                \n",
    "        conf_matrix[int(pred_class-1), int(Y[row]-1)] += 1\n",
    "    \n",
    "    return conf_matrix"
   ]
  },
  {
   "cell_type": "markdown",
   "metadata": {},
   "source": [
    "###Iterate 1000 times, with a learning rate of 0.01 and polynomial order 2"
   ]
  },
  {
   "cell_type": "code",
   "execution_count": 14,
   "metadata": {
    "collapsed": false
   },
   "outputs": [
    {
     "name": "stdout",
     "output_type": "stream",
     "text": [
      "[array([ 0.0062    ,  0.02256667,  0.02461333, -0.01378667, -0.00802667,\n",
      "        0.05862467,  0.0992    , -0.11303067, -0.055218  ,  0.09481467,\n",
      "       -0.030364  , -0.02177467, -0.13677333, -0.05202467, -0.019004  ]), array([ 0.06273333,  0.23431333,  0.02153333,  0.45573333,  0.13190667,\n",
      "       -0.12045133, -0.20581333,  0.58842867, -0.01254867, -0.44425867,\n",
      "        0.89982933,  0.27564933, -0.73844267, -0.583638  , -0.36141467]), array([-0.06553333, -0.22743333, -0.12871333, -0.12131333, -0.00158   ,\n",
      "       -0.25513667, -0.23756333,  0.148236  ,  0.27943733, -0.201842  ,\n",
      "       -0.00867267,  0.10623733,  0.306582  ,  0.27280067,  0.16071133])]\n",
      "\n",
      "Confusion Matrix : \n",
      "[[ 50.   0.   0.]\n",
      " [  0.  49.   2.]\n",
      " [  0.   1.  48.]]\n",
      "\n",
      "Accuracy : \n",
      "0.98\n",
      "Precision of class 1 is : \n",
      "1.0\n",
      "Recall of class 1 is : \n",
      "1.0\n",
      "F-Measure of class 1 is : \n",
      "1.0\n",
      "\n",
      "Precision of class 2 is : \n",
      "0.960784313725\n",
      "Recall of class 2 is : \n",
      "0.98\n",
      "F-Measure of class 2 is : \n",
      "0.970297029703\n",
      "\n",
      "Precision of class 3 is : \n",
      "0.979591836735\n",
      "Recall of class 3 is : \n",
      "0.96\n",
      "F-Measure of class 3 is : \n",
      "0.969696969697\n",
      "\n"
     ]
    }
   ],
   "source": [
    "poly_deg=2\n",
    "\n",
    "theta_j_vecs = multi_cls_train('iris.data',1000,0.01,poly_deg)\n",
    "print theta_j_vecs\n",
    "\n",
    "conf_matrix = multi_cls_test('iris.data',theta_j_vecs,poly_deg)\n",
    "perf_measures = evaluate_performance(conf_matrix)\n",
    "print_perf_measures(conf_matrix, perf_measures)"
   ]
  },
  {
   "cell_type": "markdown",
   "metadata": {},
   "source": [
    "##Multi-Layer Perceptron on a Feed Forward Neural Net:"
   ]
  },
  {
   "cell_type": "code",
   "execution_count": 33,
   "metadata": {
    "collapsed": true
   },
   "outputs": [],
   "source": [
    "def create_act_vecs(length,def_value=0.0):\n",
    "    '''Create vectors of length length with the default values def_value'''\n",
    "    return [def_value for i in range(0,length)]\n",
    "        "
   ]
  },
  {
   "cell_type": "code",
   "execution_count": 34,
   "metadata": {
    "collapsed": false
   },
   "outputs": [
    {
     "data": {
      "text/plain": [
       "[0.6, 0.6, 0.6]"
      ]
     },
     "execution_count": 34,
     "metadata": {},
     "output_type": "execute_result"
    }
   ],
   "source": [
    "create_act_vecs(3,0.6)"
   ]
  },
  {
   "cell_type": "markdown",
   "metadata": {},
   "source": [
    "#####Step 1: Create a Neural Network with the required Architecture"
   ]
  },
  {
   "cell_type": "code",
   "execution_count": 17,
   "metadata": {
    "collapsed": true
   },
   "outputs": [],
   "source": [
    "def create_neural_net(no_ip_nodes,no_hdn_nodes,no_op_nodes,E=0.2):\n",
    "    '''Create a NN in the form of a dictionary and return it.'''\n",
    "    \n",
    "    #Add a bias node\n",
    "    no_ip_nodes = no_ip_nodes + 1\n",
    "\n",
    "    #Initialize the activation vectors at each layer.\n",
    "    ip_lyr_act_vector = create_act_vecs(no_ip_nodes,0.0)\n",
    "    hdn_lyr_act_vector = create_act_vecs(no_hdn_nodes,0.0)\n",
    "    op_lyr_act_vector = create_act_vecs(no_op_nodes,0.0)\n",
    "    \n",
    "    #Initialize the theta matrices at each layer.\n",
    "    #Their Dimensions are Sl * S(l+1). Where Sl is the number of nodes at Layer l.\n",
    "    ip_theta_mat = np.zeros((no_ip_nodes,no_hdn_nodes))\n",
    "    op_theta_mat = np.zeros((no_hdn_nodes,no_op_nodes))\n",
    "\n",
    "    #Randomize their values in the range -E <= Xij <= +E\n",
    "    plus_E = +E\n",
    "    minus_E = -E\n",
    "        \n",
    "    for i in range(no_ip_nodes):\n",
    "        for j in range(no_hdn_nodes):\n",
    "            ip_theta_mat[i,j] = (plus_E - minus_E) * np.random.random_sample() + minus_E\n",
    "            \n",
    "    for j in range(no_hdn_nodes):\n",
    "        for k in range(no_op_nodes):\n",
    "            op_theta_mat[j,k] = (plus_E - minus_E) * np.random.random_sample() + minus_E\n",
    "    \n",
    "    theta_mat = {'ip_theta_mat' : ip_theta_mat, 'op_theta_mat' : op_theta_mat}\n",
    "    act_vec = {'ip_lyr_act_vector':ip_lyr_act_vector ,'hdn_lyr_act_vector':hdn_lyr_act_vector,'op_lyr_act_vector':op_lyr_act_vector}\n",
    "    layer_nodes_cnt = {'no_ip_nodes':no_ip_nodes,'no_hdn_nodes':no_hdn_nodes,'no_op_nodes':no_op_nodes}\n",
    "    \n",
    "    neural_net = {'theta_mat' :theta_mat, 'act_vec': act_vec , 'layer_nodes_cnt' : layer_nodes_cnt}\n",
    "    \n",
    "    return neural_net\n",
    "    "
   ]
  },
  {
   "cell_type": "code",
   "execution_count": 18,
   "metadata": {
    "collapsed": false
   },
   "outputs": [
    {
     "data": {
      "text/plain": [
       "[0.0, 0.0]"
      ]
     },
     "execution_count": 18,
     "metadata": {},
     "output_type": "execute_result"
    }
   ],
   "source": [
    "x = create_neural_net(2,3,2)\n",
    "\n",
    "x['act_vec']['op_lyr_act_vector']"
   ]
  },
  {
   "cell_type": "markdown",
   "metadata": {},
   "source": [
    "#####Step 2: Train the Constructed neural net as follows:\n",
    "Repeat until convergence\n",
    "<br>{<br>\n",
    "for i in range(1,m):<br>\n",
    "1.Forward Propogate to get the activations vectors $a^{x}$ for x = {2,3,...L}, where x is the layer no<br>\n",
    "2.Compute $\\delta^{L} = a^{L} - y^{i}$ <br>\n",
    "3.Compute $\\delta^{L-1},\\delta^{L-2}.....\\delta^{2}$ by back propogating<br>\n",
    "4.Crank up the $\\theta^{l}_{ij}$ for all layers l = {1,2,3..} , all previous layer nodes i , all current layer nodes j<br>\n",
    "}\n"
   ]
  },
  {
   "cell_type": "code",
   "execution_count": 19,
   "metadata": {
    "collapsed": true
   },
   "outputs": [],
   "source": [
    "def sigmoid(x):\n",
    "    '''Return the sigmoid of x'''\n",
    "    return 1.0/(1 + math.pow(math.e,-x))"
   ]
  },
  {
   "cell_type": "code",
   "execution_count": 20,
   "metadata": {
    "collapsed": true
   },
   "outputs": [],
   "source": [
    "def dx_sigmoid(x):\n",
    "    '''Return the derivative which is x[1 - x] == x - x^2 '''\n",
    "    return x - x**2"
   ]
  },
  {
   "cell_type": "code",
   "execution_count": 21,
   "metadata": {
    "collapsed": true
   },
   "outputs": [],
   "source": [
    "def forward_propogate(neural_net, X):\n",
    "    '''Recompute the activations of all nodes at the hidden and output layers'''\n",
    "    '''Return the neural net with activations'''\n",
    "    \n",
    "    no_hdn_nodes = neural_net['layer_nodes_cnt']['no_hdn_nodes']\n",
    "    no_ip_nodes = neural_net['layer_nodes_cnt']['no_ip_nodes']\n",
    "    no_op_nodes = neural_net['layer_nodes_cnt']['no_op_nodes']\n",
    "    \n",
    "    # Update the activations at Input Layer\n",
    "    #Discard a node as it is the bias unit.    \n",
    "    #The activations at the Input layer is nothing but the feature vectors fed to the Neural net.    \n",
    "    for i in range(no_ip_nodes-1):      \n",
    "        neural_net['act_vec']['ip_lyr_act_vector'][i] = X[i]       \n",
    "\n",
    "    # Update the activations at Hidden Layer\n",
    "    #The activations at the hidden layer is the sigmoid(weighted sum thetas and activations at input layer)\n",
    "    '''\n",
    "    for i in range(no_hdn_nodes):\n",
    "        z = 0\n",
    "        for j in range(no_ip_nodes):            \n",
    "            z += neural_net['act_vec']['ip_lyr_act_vector'][j] * neural_net['theta_mat']['ip_theta_mat'][j][i]            \n",
    "        neural_net['act_vec']['hdn_lyr_act_vector'][i] = sigmoid(z)      \n",
    "    '''\n",
    "    \n",
    "    #Optimized code:\n",
    "    for i in range(no_hdn_nodes):\n",
    "        z = np.dot(np.transpose(neural_net['act_vec']['ip_lyr_act_vector']), neural_net['theta_mat']['ip_theta_mat'][:,i])\n",
    "        neural_net['act_vec']['hdn_lyr_act_vector'][i] = sigmoid(z)\n",
    "        \n",
    "    # Update the activations at Output Layer\n",
    "    #The activations at the Output layer is the sigmoid(weighted sum thetas and activations at Hidden layer)\n",
    "    for i in range(no_op_nodes):                \n",
    "        z = np.dot(np.transpose(neural_net['act_vec']['hdn_lyr_act_vector']), neural_net['theta_mat']['op_theta_mat'][:,i])            \n",
    "        neural_net['act_vec']['op_lyr_act_vector'][i] = sigmoid(z)        \n",
    "\n",
    "    return neural_net"
   ]
  },
  {
   "cell_type": "code",
   "execution_count": 22,
   "metadata": {
    "collapsed": true
   },
   "outputs": [],
   "source": [
    "def back_propagate(neural_net,Y, lrn_rate):\n",
    "    '''Back Propogate to compute deltas at Hidden and output layers'''\n",
    "    \n",
    "    no_hdn_nodes = neural_net['layer_nodes_cnt']['no_hdn_nodes']\n",
    "    no_ip_nodes = neural_net['layer_nodes_cnt']['no_ip_nodes']\n",
    "    no_op_nodes = neural_net['layer_nodes_cnt']['no_op_nodes']\n",
    "    \n",
    "    # Compute deltas at output layer :    \n",
    "    # delta at output layer is true labels(Y) - activations\n",
    "    \n",
    "    output_deltas = create_act_vecs(no_op_nodes,0.0)\n",
    "    \n",
    "    for i in range(no_op_nodes):\n",
    "        output_deltas[i] = Y[i]-neural_net['act_vec']['op_lyr_act_vector'][i]        \n",
    "\n",
    "    '''\n",
    "    # Compute deltas at hidden layer :          \n",
    "    hidden_deltas = create_act_vecs(no_hdn_nodes,0.0)\n",
    "    for j in range(no_hdn_nodes):\n",
    "        part1 = 0\n",
    "        for k in range(no_op_nodes):            \n",
    "            part1 +=output_deltas[k]*neural_net['theta_mat']['op_theta_mat'][j][k]\n",
    "        hidden_deltas[j] = dx_sigmoid(neural_net['act_vec']['hdn_lyr_act_vector'][j]) * part1\n",
    "    '''\n",
    "    #Optimize.\n",
    "    hidden_deltas = create_act_vecs(no_hdn_nodes,0.0)\n",
    "    for j in range(no_hdn_nodes):                \n",
    "        z = np.dot( np.transpose(output_deltas) , neural_net['theta_mat']['op_theta_mat'][j] )\n",
    "        hidden_deltas[j] = dx_sigmoid(neural_net['act_vec']['hdn_lyr_act_vector'][j]) * z\n",
    "\n",
    "    # Crank up the output theta matrix\n",
    "    for j in range(no_hdn_nodes):        \n",
    "        update = np.dot( np.transpose(output_deltas) , neural_net['act_vec']['hdn_lyr_act_vector'][j])\n",
    "        neural_net['theta_mat']['op_theta_mat'][j] = neural_net['theta_mat']['op_theta_mat'][j] + (update*lrn_rate)\n",
    "\n",
    "    # Crank up the input theta matrix\n",
    "    for i in range(no_ip_nodes):        \n",
    "            update = np.dot( np.transpose(hidden_deltas) , neural_net['act_vec']['ip_lyr_act_vector'][i] )\n",
    "            neural_net['theta_mat']['ip_theta_mat'][i] = neural_net['theta_mat']['ip_theta_mat'][i] +(update*lrn_rate)               \n",
    "\n",
    "    # calculate Sum of square error    \n",
    "    error = 0.0\n",
    "    for i in range(len(Y)):\n",
    "        error = error + 0.5*(Y[i]-neural_net['act_vec']['op_lyr_act_vector'][i] )**2\n",
    "        \n",
    "    return neural_net, error"
   ]
  },
  {
   "cell_type": "code",
   "execution_count": 23,
   "metadata": {
    "collapsed": true
   },
   "outputs": [],
   "source": [
    "def vectorize_labels(y,distinct_classes):\n",
    "    '''Vectorize the labels according to the total number of distinct classes.'''\n",
    "    '''Example : if y = 2 and distinct_classes = [1,2,3,4] then return [0,1,0,0]'''\n",
    "    x = np.zeros(len(distinct_classes),dtype=int).tolist()\n",
    "    x[distinct_classes.index(y)] = 1\n",
    "    return x"
   ]
  },
  {
   "cell_type": "code",
   "execution_count": 24,
   "metadata": {
    "collapsed": false
   },
   "outputs": [],
   "source": [
    "def train(neural_net,file_name, iterations=1000, lrn_rate=0.5,MNIST='N',X_train=None,y_train=None):    \n",
    "    '''Train the neural and return the weights'''\n",
    "    \n",
    "    if MNIST == 'N':\n",
    "        data_matrix = np.loadtxt(file_name)\n",
    "        row_len = len(data_matrix[0])    \n",
    "\n",
    "        #Segregate Features and labels\n",
    "        X_matrix = data_matrix[:,:row_len-1]\n",
    "        Y = data_matrix[:,row_len-1:]\n",
    "\n",
    "        new_Y = []\n",
    "        for y in Y:\n",
    "            new_Y.append(y[0])\n",
    "\n",
    "        distinct_labels = list(set(new_Y))\n",
    "    else:\n",
    "        X_matrix = X_train\n",
    "        new_Y = y_train\n",
    "        distinct_labels = list(set(new_Y))\n",
    "        \n",
    "    for i in range(iterations):\n",
    "        error = 0\n",
    "        for r_id,X in enumerate(X_matrix):                                    \n",
    "            neural_net = forward_propogate(neural_net,X)\n",
    "            y_vec = vectorize_labels(new_Y[r_id],distinct_labels)\n",
    "            neural_net,error = back_propagate(neural_net,y_vec, lrn_rate)\n",
    "            if MNIST == 'Y' and r_id % 100 == 0:\n",
    "                print r_id\n",
    "        if i % 100 == 0:\n",
    "            print('error %-.5f' % error)\n",
    "    \n",
    "    return neural_net"
   ]
  },
  {
   "cell_type": "code",
   "execution_count": 25,
   "metadata": {
    "collapsed": true
   },
   "outputs": [],
   "source": [
    "def predict(X,trained_neural_net):\n",
    "    '''Predict the probabilities of class labels'''\n",
    "    for x in X:\n",
    "        nn = forward_propogate(trained_neural_net, x)\n",
    "        return nn['act_vec']['op_lyr_act_vector']"
   ]
  },
  {
   "cell_type": "markdown",
   "metadata": {},
   "source": [
    "<b>Iris dataset has 4 features and 3 distinct class labels.<br>\n",
    "So lets create a Neural Net with 4 nodes at Input Layer, 3 nodes at output Layer, and 5 nodes at Hidden Layer</b>"
   ]
  },
  {
   "cell_type": "code",
   "execution_count": 26,
   "metadata": {
    "collapsed": false
   },
   "outputs": [
    {
     "name": "stdout",
     "output_type": "stream",
     "text": [
      "{'theta_mat': {'ip_theta_mat': array([[ -8.07059697e-02,  -1.16583811e-01,   1.98131696e-02,\n",
      "          1.41109676e-04,  -4.08319304e-02],\n",
      "       [  9.16694818e-02,   1.50593668e-02,  -1.36295150e-01,\n",
      "         -2.10314918e-02,  -1.93061252e-01],\n",
      "       [  1.23547391e-01,  -1.91039868e-01,   5.98450142e-02,\n",
      "          1.03966950e-01,  -3.79857818e-02],\n",
      "       [  1.10945360e-01,  -1.01767953e-01,   5.17447872e-02,\n",
      "          1.02644063e-01,   1.00557101e-01],\n",
      "       [ -2.25275296e-03,  -9.06057584e-02,  -1.17788396e-01,\n",
      "          1.66364772e-01,  -1.29010166e-01]]), 'op_theta_mat': array([[ 0.02745992, -0.04764043, -0.15839701],\n",
      "       [ 0.0495422 , -0.09854901,  0.08469571],\n",
      "       [ 0.17376778, -0.18651834, -0.01312286],\n",
      "       [-0.1097595 , -0.19315933, -0.01681882],\n",
      "       [ 0.1341492 ,  0.19357196, -0.03032351]])}, 'act_vec': {'ip_lyr_act_vector': [0.0, 0.0, 0.0, 0.0, 0.0], 'op_lyr_act_vector': [0.0, 0.0, 0.0], 'hdn_lyr_act_vector': [0.0, 0.0, 0.0, 0.0, 0.0]}, 'layer_nodes_cnt': {'no_op_nodes': 3, 'no_hdn_nodes': 5, 'no_ip_nodes': 5}}\n"
     ]
    }
   ],
   "source": [
    "neural_net = create_neural_net(4,5,3)\n",
    "print neural_net"
   ]
  },
  {
   "cell_type": "markdown",
   "metadata": {},
   "source": [
    "<b>Lets train this 4x5x3 Neural Net with the iris dataset<br>\n",
    "Let's chose a learning rate of 0.06 and lets iterate 2000 times.\n",
    "</b>"
   ]
  },
  {
   "cell_type": "code",
   "execution_count": 27,
   "metadata": {
    "collapsed": false
   },
   "outputs": [
    {
     "name": "stdout",
     "output_type": "stream",
     "text": [
      "error 0.01660\n",
      "error 0.00013\n",
      "error 0.00016\n",
      "error 0.00000\n",
      "error 0.00023\n",
      "error 0.00010\n",
      "error 0.00013\n",
      "error 0.00009\n",
      "error 0.00109\n",
      "error 0.00046\n",
      "error 0.00000\n",
      "error 0.00010\n",
      "error 0.00000\n",
      "error 0.00130\n",
      "error 0.00002\n",
      "error 0.00005\n",
      "error 0.00008\n",
      "error 0.00213\n",
      "error 0.00017\n",
      "error 0.00009\n",
      "{'theta_mat': {'ip_theta_mat': array([[ -9.13100850e+00,   2.85575151e+01,  -3.10528510e-01,\n",
      "         -2.33526601e+00,  -8.68367990e-01],\n",
      "       [ -9.47704708e+00,   2.63053325e+01,   1.75699316e+00,\n",
      "          1.39898974e+00,  -3.07556881e+00],\n",
      "       [  1.04529948e+01,  -3.89584358e+01,   2.07222318e+00,\n",
      "         -8.03584660e-01,   4.76492042e+00],\n",
      "       [  1.61612118e+01,  -3.99221335e+01,   4.34647124e+00,\n",
      "          1.83306582e+00,   2.34995538e+00],\n",
      "       [ -2.25275296e-03,  -9.06057584e-02,  -1.17788396e-01,\n",
      "          1.66364772e-01,  -1.29010166e-01]]), 'op_theta_mat': array([[ -1.73653258,  -5.05195097,   4.8520262 ],\n",
      "       [  5.74757169,   6.66387606,  -6.90344844],\n",
      "       [  2.03697314, -13.73747348,  -0.78355845],\n",
      "       [  1.63789365, -10.4971616 ,  -0.44306331],\n",
      "       [-15.69038912,  11.17400833,   3.39484768]])}, 'act_vec': {'ip_lyr_act_vector': [5.9000000000000004, 3.0, 5.0999999999999996, 1.8, 0.0], 'op_lyr_act_vector': [4.870338060765847e-07, 0.005895216508815691, 0.9937793243289366], 'hdn_lyr_act_vector': [0.5076654793375943, 8.898741218706555e-11, 0.9999999996696431, 3.105028368768191e-05, 0.9999993060993829]}, 'layer_nodes_cnt': {'no_op_nodes': 3, 'no_hdn_nodes': 5, 'no_ip_nodes': 5}}\n"
     ]
    }
   ],
   "source": [
    "trained_neural_net = train(neural_net,'iris.data',2000,0.06)\n",
    "print trained_neural_net"
   ]
  },
  {
   "cell_type": "markdown",
   "metadata": {},
   "source": [
    "<b>Time for predictions. <br> Lets predict and compute confusion matrix for entries in iris dataset</b>"
   ]
  },
  {
   "cell_type": "code",
   "execution_count": 28,
   "metadata": {
    "collapsed": false
   },
   "outputs": [],
   "source": [
    "def predict_and_evaluate_performance(file_name,MNIST='N',X_matrix=None,Y=None):\n",
    "    '''For all examples,Predict the probabilities for all classes, and the assign the class label with max probability'''\n",
    "    \n",
    "    if MNIST == 'N' :\n",
    "        data_matrix = np.loadtxt(file_name)\n",
    "        row_len = len(data_matrix[0])    \n",
    "        X_matrix = data_matrix[:,:row_len-1]\n",
    "\n",
    "        Y = data_matrix[:,row_len-1:]\n",
    "\n",
    "        Y = [y[0] for y in Y.tolist()]\n",
    "    \n",
    "\n",
    "    no_of_classes = len(set(Y))\n",
    "    conf_matrix = np.zeros((no_of_classes,no_of_classes))\n",
    "\n",
    "    for row,X in enumerate(X_matrix):    \n",
    "        class_probs = predict([X],trained_neural_net)\n",
    "\n",
    "        predicted_class = class_probs.index(max(class_probs))\n",
    "        \n",
    "        if MNIST == 'N':\n",
    "            true_lbl = int(Y[row]-1)\n",
    "        else:\n",
    "            true_lbl = int(Y[row])\n",
    "            \n",
    "        conf_matrix[predicted_class,true_lbl] += 1\n",
    "\n",
    "    perf_measures = evaluate_performance(conf_matrix)\n",
    "    print_perf_measures(conf_matrix,perf_measures)\n"
   ]
  },
  {
   "cell_type": "code",
   "execution_count": 29,
   "metadata": {
    "collapsed": false
   },
   "outputs": [
    {
     "name": "stdout",
     "output_type": "stream",
     "text": [
      "\n",
      "Confusion Matrix : \n",
      "[[ 50.   0.   0.]\n",
      " [  0.  46.   0.]\n",
      " [  0.   4.  50.]]\n",
      "\n",
      "Accuracy : \n",
      "0.973333333333\n",
      "Precision of class 1 is : \n",
      "1.0\n",
      "Recall of class 1 is : \n",
      "1.0\n",
      "F-Measure of class 1 is : \n",
      "1.0\n",
      "\n",
      "Precision of class 2 is : \n",
      "1.0\n",
      "Recall of class 2 is : \n",
      "0.92\n",
      "F-Measure of class 2 is : \n",
      "0.958333333333\n",
      "\n",
      "Precision of class 3 is : \n",
      "0.925925925926\n",
      "Recall of class 3 is : \n",
      "1.0\n",
      "F-Measure of class 3 is : \n",
      "0.961538461538\n",
      "\n"
     ]
    }
   ],
   "source": [
    "predict_and_evaluate_performance('iris.data')"
   ]
  },
  {
   "cell_type": "markdown",
   "metadata": {},
   "source": [
    "<b> Let's increase the number of hidden units to 8 and observe the performance </b><br>\n",
    "<b> So, the dimensions of the new neural net is : 4x8x3 </b>"
   ]
  },
  {
   "cell_type": "code",
   "execution_count": 32,
   "metadata": {
    "collapsed": false
   },
   "outputs": [
    {
     "name": "stdout",
     "output_type": "stream",
     "text": [
      "{'theta_mat': {'ip_theta_mat': array([[ 0.00116256, -0.06293263, -0.10803242,  0.19619404,  0.19246331,\n",
      "         0.10481931,  0.0770353 , -0.13862009],\n",
      "       [ 0.19808414,  0.02441997,  0.12915653, -0.16692361, -0.00107777,\n",
      "        -0.08382041,  0.02714061,  0.11172736],\n",
      "       [-0.05969833,  0.09408224, -0.01841783,  0.01932991, -0.19675585,\n",
      "         0.06808777,  0.15368515,  0.08317641],\n",
      "       [ 0.18655725, -0.11543166, -0.08986352,  0.0475849 , -0.04482657,\n",
      "        -0.16614241, -0.06634655,  0.06894761],\n",
      "       [-0.01542019,  0.0721697 , -0.06091166, -0.09302769, -0.15057134,\n",
      "         0.18010146, -0.16659208,  0.19514135]]), 'op_theta_mat': array([[ 0.15811682, -0.18341296,  0.12565874],\n",
      "       [-0.13843614, -0.01761117, -0.19183185],\n",
      "       [ 0.08352862, -0.17937782,  0.06028842],\n",
      "       [ 0.12135665,  0.1377123 , -0.13201343],\n",
      "       [ 0.14508623,  0.19605301,  0.115217  ],\n",
      "       [-0.08517319,  0.19443561, -0.05953836],\n",
      "       [ 0.12797725, -0.00968097,  0.18262659],\n",
      "       [ 0.10321946,  0.16456452, -0.19289728]])}, 'act_vec': {'ip_lyr_act_vector': [0.0, 0.0, 0.0, 0.0, 0.0], 'op_lyr_act_vector': [0.0, 0.0, 0.0], 'hdn_lyr_act_vector': [0.0, 0.0, 0.0, 0.0, 0.0, 0.0, 0.0, 0.0]}, 'layer_nodes_cnt': {'no_op_nodes': 3, 'no_hdn_nodes': 8, 'no_ip_nodes': 5}}\n",
      "error 0.00766\n",
      "error 0.00425\n",
      "error 0.00000\n",
      "error 0.00000\n",
      "error 0.00003\n",
      "error 0.00013\n",
      "error 0.00011\n",
      "error 0.00021\n",
      "error 0.00089\n",
      "error 0.00007\n",
      "error 0.00012\n",
      "error 0.00000\n",
      "error 0.00053\n",
      "error 0.00004\n",
      "error 0.00000\n",
      "error 0.00011\n",
      "error 0.00022\n",
      "error 0.00003\n",
      "error 0.00012\n",
      "error 0.00000\n",
      "{'theta_mat': {'ip_theta_mat': array([[  2.87483173e+01,  -9.41322507e-01,  -8.17615868e-01,\n",
      "          9.78373014e-01,   6.88824097e+00,  -9.57508453e-01,\n",
      "         -8.05393439e+00,   6.73056298e-01],\n",
      "       [  1.89862914e+01,  -2.93089088e+00,  -4.01221979e-02,\n",
      "          1.89653297e-01,   1.00684581e+01,  -6.33869441e-01,\n",
      "         -1.63334734e+01,   6.64652499e-01],\n",
      "       [ -3.84601645e+01,   4.69561171e+00,  -1.27383597e+00,\n",
      "          1.67826565e+00,  -1.10978032e+01,  -3.25663881e-01,\n",
      "          1.27700819e+01,   8.46974449e-01],\n",
      "       [ -3.57656891e+01,   2.04304317e+00,  -6.33619964e-01,\n",
      "          9.50620298e-01,  -1.26189150e+01,  -1.74234269e-01,\n",
      "          1.61231361e+01,   4.81663161e-01],\n",
      "       [ -1.54201930e-02,   7.21696966e-02,  -6.09116621e-02,\n",
      "         -9.30276930e-02,  -1.50571338e-01,   1.80101463e-01,\n",
      "         -1.66592083e-01,   1.95141354e-01]]), 'op_theta_mat': array([[  5.5472368 ,   6.61076728,  -6.98827861],\n",
      "       [-15.82132833,  14.43970797,   2.41944487],\n",
      "       [ -0.20930214,   0.97133658,  -1.98667298],\n",
      "       [ -0.4929401 ,  -8.90425388,   1.09914125],\n",
      "       [  2.51229001,   3.3739578 ,  -3.6059938 ],\n",
      "       [ -0.12820922,  -0.68397006,   0.1286356 ],\n",
      "       [ -0.61137237,  -2.95938269,   2.99744119],\n",
      "       [  0.36893664,  -8.00904189,  -0.96961345]])}, 'act_vec': {'ip_lyr_act_vector': [5.9000000000000004, 3.0, 5.0999999999999996, 1.8, 0.0], 'op_lyr_act_vector': [1.1345198035318911e-07, 0.06360616025306072, 0.9409481101837822], 'hdn_lyr_act_vector': [1.7997421194419475e-15, 0.9999982893369295, 3.435389271123444e-06, 0.9999999389536187, 0.0002103656262416328, 7.296687505243336e-05, 0.07703081360898476, 0.9999856468190222]}, 'layer_nodes_cnt': {'no_op_nodes': 3, 'no_hdn_nodes': 8, 'no_ip_nodes': 5}}\n",
      "\n",
      "Confusion Matrix : \n",
      "[[ 50.   0.   0.]\n",
      " [  0.  42.   0.]\n",
      " [  0.   8.  50.]]\n",
      "\n",
      "Accuracy : \n",
      "0.946666666667\n",
      "Precision of class 1 is : \n",
      "1.0\n",
      "Recall of class 1 is : \n",
      "1.0\n",
      "F-Measure of class 1 is : \n",
      "1.0\n",
      "\n",
      "Precision of class 2 is : \n",
      "1.0\n",
      "Recall of class 2 is : \n",
      "0.84\n",
      "F-Measure of class 2 is : \n",
      "0.913043478261\n",
      "\n",
      "Precision of class 3 is : \n",
      "0.862068965517\n",
      "Recall of class 3 is : \n",
      "1.0\n",
      "F-Measure of class 3 is : \n",
      "0.925925925926\n",
      "\n"
     ]
    }
   ],
   "source": [
    "#Create neural net\n",
    "neural_net = create_neural_net(4,8,3)\n",
    "print neural_net\n",
    "\n",
    "#Train neural net\n",
    "trained_neural_net = train(neural_net,'iris.data',2000,0.06)\n",
    "print trained_neural_net\n",
    "\n",
    "#Evaluate performance\n",
    "predict_and_evaluate_performance('iris.data')"
   ]
  },
  {
   "cell_type": "markdown",
   "metadata": {},
   "source": [
    "###Multi Layer Perceptron on a Feed Forward Neural Network for MNIST digits image data"
   ]
  },
  {
   "cell_type": "code",
   "execution_count": 36,
   "metadata": {
    "collapsed": false
   },
   "outputs": [
    {
     "data": {
      "text/plain": [
       "<matplotlib.image.AxesImage at 0x8453048>"
      ]
     },
     "execution_count": 36,
     "metadata": {},
     "output_type": "execute_result"
    },
    {
     "data": {
      "image/png": "[encoded data removed]",
      "text/plain": [
       "<matplotlib.figure.Figure at 0x8041a58>"
      ]
     },
     "metadata": {},
     "output_type": "display_data"
    }
   ],
   "source": [
    "# Load the dataset\n",
    "f = gzip.open('mnist.pkl.gz', 'rb')\n",
    "train_set, valid_set, test_set = cPickle.load(f)\n",
    "\n",
    "X_train,y_train = train_set[0],train_set[1]\n",
    "X_test,y_test = test_set[0],test_set[1]\n",
    "\n",
    "size=len(y_train)\n",
    "\n",
    "f.close()\n",
    "\n",
    "size=len(y_train)\n",
    "ind = [ k for k in range(size) if y_train[k]==3 ]\n",
    "extracted_images=X_train[ind,:]\n",
    "\n",
    "mean_image=extracted_images.mean(axis=0)\n",
    "imshow(mean_image.reshape(28,28), cmap=cm.gray)"
   ]
  },
  {
   "cell_type": "markdown",
   "metadata": {},
   "source": [
    "<b> Create a Neural network with 784 input nodes, 785 hidden layer nodes and 10 output layer nodes<br></b>"
   ]
  },
  {
   "cell_type": "code",
   "execution_count": 37,
   "metadata": {
    "collapsed": false
   },
   "outputs": [
    {
     "name": "stdout",
     "output_type": "stream",
     "text": [
      "created a neural net\n"
     ]
    }
   ],
   "source": [
    "ip_nodes = X_train.shape[1]\n",
    "neural_net = create_neural_net(ip_nodes,ip_nodes + 1, 10)\n",
    "print 'created a neural net'"
   ]
  },
  {
   "cell_type": "markdown",
   "metadata": {},
   "source": [
    "<b> Train the Neural net on 5000 examples, with a learning rate of 0.06 by iterating 2 times </b>"
   ]
  },
  {
   "cell_type": "code",
   "execution_count": 38,
   "metadata": {
    "collapsed": false
   },
   "outputs": [
    {
     "name": "stdout",
     "output_type": "stream",
     "text": [
      "0\n",
      "100\n",
      "200\n",
      "300\n",
      "400\n",
      "500\n",
      "600\n",
      "700\n",
      "800\n",
      "900\n",
      "1000\n",
      "1100\n",
      "1200\n",
      "1300\n",
      "1400\n",
      "1500\n",
      "1600\n",
      "1700\n",
      "1800\n",
      "1900\n",
      "2000\n",
      "2100\n",
      "2200\n",
      "2300\n",
      "2400\n",
      "2500\n",
      "2600\n",
      "2700\n",
      "2800\n",
      "2900\n",
      "3000\n",
      "3100\n",
      "3200\n",
      "3300\n",
      "3400\n",
      "3500\n",
      "3600\n",
      "3700\n",
      "3800\n",
      "3900\n",
      "4000\n",
      "4100\n",
      "4200\n",
      "4300\n",
      "4400\n",
      "4500\n",
      "4600\n",
      "4700\n",
      "4800\n",
      "4900\n",
      "error 0.01336\n",
      "0\n",
      "100\n",
      "200\n",
      "300\n",
      "400\n",
      "500\n",
      "600\n",
      "700\n",
      "800\n",
      "900\n",
      "1000\n",
      "1100\n",
      "1200\n",
      "1300\n",
      "1400\n",
      "1500\n",
      "1600\n",
      "1700\n",
      "1800\n",
      "1900\n",
      "2000\n",
      "2100\n",
      "2200\n",
      "2300\n",
      "2400\n",
      "2500\n",
      "2600\n",
      "2700\n",
      "2800\n",
      "2900\n",
      "3000\n",
      "3100\n",
      "3200\n",
      "3300\n",
      "3400\n",
      "3500\n",
      "3600\n",
      "3700\n",
      "3800\n",
      "3900\n",
      "4000\n",
      "4100\n",
      "4200\n",
      "4300\n",
      "4400\n",
      "4500\n",
      "4600\n",
      "4700\n",
      "4800\n",
      "4900\n",
      "train complete\n"
     ]
    }
   ],
   "source": [
    "#Train on the first 5000 examples\n",
    "small_X_train = X_train[:5000]\n",
    "small_y_train = y_train[:5000]\n",
    "\n",
    "trained_neural_net = train(neural_net,'mnist_dataset',2,0.06,'Y',small_X_train,small_y_train)\n",
    "print 'train complete'"
   ]
  },
  {
   "cell_type": "code",
   "execution_count": 40,
   "metadata": {
    "collapsed": false
   },
   "outputs": [
    {
     "name": "stdout",
     "output_type": "stream",
     "text": [
      "\n",
      "Confusion Matrix : \n",
      "[[  84.    0.    0.    1.    0.    1.    3.    0.    1.    0.]\n",
      " [   0.  125.    0.    0.    2.    0.    0.    5.    0.    1.]\n",
      " [   0.    0.  108.    6.    1.    0.    0.    4.    1.    0.]\n",
      " [   0.    0.    0.   82.    0.    0.    0.    0.    2.    0.]\n",
      " [   0.    0.    0.    1.  101.    2.    1.    3.    3.    3.]\n",
      " [   0.    0.    1.    5.    0.   77.    1.    0.    2.    2.]\n",
      " [   1.    1.    0.    2.    1.    3.   80.    0.    0.    0.]\n",
      " [   0.    0.    3.    5.    0.    2.    2.   84.    1.    3.]\n",
      " [   0.    0.    2.    4.    0.    2.    0.    1.   78.    2.]\n",
      " [   0.    0.    2.    1.    5.    0.    0.    2.    1.   83.]]\n",
      "\n",
      "Accuracy : \n",
      "0.902\n",
      "Precision of class 1 is : \n",
      "0.933333333333\n",
      "Recall of class 1 is : \n",
      "0.988235294118\n",
      "F-Measure of class 1 is : \n",
      "0.96\n",
      "\n",
      "Precision of class 2 is : \n",
      "0.93984962406\n",
      "Recall of class 2 is : \n",
      "0.992063492063\n",
      "F-Measure of class 2 is : \n",
      "0.965250965251\n",
      "\n",
      "Precision of class 3 is : \n",
      "0.9\n",
      "Recall of class 3 is : \n",
      "0.931034482759\n",
      "F-Measure of class 3 is : \n",
      "0.915254237288\n",
      "\n",
      "Precision of class 4 is : \n",
      "0.97619047619\n",
      "Recall of class 4 is : \n",
      "0.766355140187\n",
      "F-Measure of class 4 is : \n",
      "0.858638743455\n",
      "\n",
      "Precision of class 5 is : \n",
      "0.885964912281\n",
      "Recall of class 5 is : \n",
      "0.918181818182\n",
      "F-Measure of class 5 is : \n",
      "0.901785714286\n",
      "\n",
      "Precision of class 6 is : \n",
      "0.875\n",
      "Recall of class 6 is : \n",
      "0.885057471264\n",
      "F-Measure of class 6 is : \n",
      "0.88\n",
      "\n",
      "Precision of class 7 is : \n",
      "0.909090909091\n",
      "Recall of class 7 is : \n",
      "0.919540229885\n",
      "F-Measure of class 7 is : \n",
      "0.914285714286\n",
      "\n",
      "Precision of class 8 is : \n",
      "0.84\n",
      "Recall of class 8 is : \n",
      "0.848484848485\n",
      "F-Measure of class 8 is : \n",
      "0.844221105528\n",
      "\n",
      "Precision of class 9 is : \n",
      "0.876404494382\n",
      "Recall of class 9 is : \n",
      "0.876404494382\n",
      "F-Measure of class 9 is : \n",
      "0.876404494382\n",
      "\n",
      "Precision of class 10 is : \n",
      "0.882978723404\n",
      "Recall of class 10 is : \n",
      "0.882978723404\n",
      "F-Measure of class 10 is : \n",
      "0.882978723404\n",
      "\n"
     ]
    }
   ],
   "source": [
    "#Test on 1000 examples \n",
    "small_X_train = X_test[:1000]\n",
    "small_y_test = y_test[:1000]\n",
    "\n",
    "predict_and_evaluate_performance('mnist_dataset','Y',small_X_train,small_y_test)"
   ]
  }
 ],
 "metadata": {
  "kernelspec": {
   "display_name": "Python 2",
   "language": "python",
   "name": "python2"
  },
  "language_info": {
   "codemirror_mode": {
    "name": "ipython",
    "version": 2
   },
   "file_extension": ".py",
   "mimetype": "text/x-python",
   "name": "python",
   "nbconvert_exporter": "python",
   "pygments_lexer": "ipython2",
   "version": "2.7.11"
  }
 },
 "nbformat": 4,
 "nbformat_minor": 0
}
